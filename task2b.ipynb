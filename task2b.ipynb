{
 "cells": [
  {
   "cell_type": "code",
   "execution_count": 8,
   "metadata": {
    "vscode": {
     "languageId": "plaintext"
    }
   },
   "outputs": [],
   "source": [
    "config = {\n",
    "    \"NUM_EPOCHS\": 100,\n",
    "    \"BATCH_SIZE\": 64,\n",
    "    \"LR\": 0.001,\n",
    "    \"IN_CHANNELS\": 3,\n",
    "    \"MODEL\": \"2D\",\n",
    "    \"DATASET\": \"PathMNIST\",\n",
    "    \"CLASSES\": 9\n",
    "}"
   ]
  },
  {
   "cell_type": "code",
   "execution_count": 9,
   "metadata": {},
   "outputs": [],
   "source": [
    "import torch.nn as nn\n",
    "import torch.nn.functional as F\n",
    "\n",
    "'''\n",
    "Neural network\n",
    "'''\n",
    "class my_network(nn.Module):\n",
    "    def __init__(self, num_classes=9):\n",
    "        super(my_network, self).__init__()\n",
    "\n",
    "        self.features = nn.Sequential( #28x28\n",
    "            nn.Conv2d(3, 32, kernel_size=3, padding=1),\n",
    "            nn.BatchNorm2d(32),\n",
    "            nn.LeakyReLU(),\n",
    "            nn.Dropout(0.1),\n",
    "            nn.MaxPool2d(2),  # 14x14\n",
    "\n",
    "            nn.Conv2d(32, 64, kernel_size=3, padding=1),\n",
    "            nn.BatchNorm2d(64),\n",
    "            nn.LeakyReLU(),\n",
    "            nn.Dropout(0.1),\n",
    "            nn.MaxPool2d(2),  # 7x7\n",
    "\n",
    "            nn.Conv2d(64, 128, kernel_size=3, padding=1),\n",
    "            nn.BatchNorm2d(128),\n",
    "            nn.LeakyReLU(),\n",
    "            nn.Dropout(0.3),\n",
    "            nn.MaxPool2d(2),  # 3x3\n",
    "\n",
    "            nn.Conv2d(128, 256, kernel_size=3, padding=1),\n",
    "            nn.BatchNorm2d(256),\n",
    "            nn.LeakyReLU(),\n",
    "            nn.Dropout(0.3),\n",
    "            nn.MaxPool2d(2),  # 1x1\n",
    "\n",
    "            nn.Conv2d(256, 512, kernel_size=3, padding=1),\n",
    "            nn.BatchNorm2d(512),\n",
    "            nn.LeakyReLU(),\n",
    "            nn.Dropout(0.4),\n",
    "            nn.AdaptiveAvgPool2d((1, 1))  # 1x1\n",
    "\n",
    "        )\n",
    "\n",
    "        self.classifier = nn.Sequential(\n",
    "            nn.Flatten(),\n",
    "            nn.Linear(512, 256),\n",
    "            nn.ReLU(),\n",
    "            nn.Dropout(0.4),\n",
    "            nn.Linear(256, 128),\n",
    "            nn.ReLU(),\n",
    "            nn.Dropout(0.4),\n",
    "            nn.Linear(128, num_classes)\n",
    "\n",
    "        )\n",
    "\n",
    "    def forward(self, x):\n",
    "        x = self.features(x)\n",
    "        x = self.classifier(x)\n",
    "        return x\n"
   ]
  },
  {
   "cell_type": "code",
   "execution_count": 10,
   "metadata": {},
   "outputs": [
    {
     "name": "stdout",
     "output_type": "stream",
     "text": [
      "Using downloaded and verified file: /home/lidalbak/.medmnist/pathmnist.npz\n"
     ]
    },
    {
     "name": "stderr",
     "output_type": "stream",
     "text": [
      "/usr/local/lib/python3.10/dist-packages/torch/optim/lr_scheduler.py:60: UserWarning: The verbose parameter is deprecated. Please use get_last_lr() to access the learning rate.\n",
      "  warnings.warn(\n"
     ]
    },
    {
     "name": "stdout",
     "output_type": "stream",
     "text": [
      "Using downloaded and verified file: /home/lidalbak/.medmnist/pathmnist.npz\n",
      "Training started\n",
      "Epoch 0/100\n"
     ]
    },
    {
     "name": "stderr",
     "output_type": "stream",
     "text": [
      "Training: 100%|█████████████████████████████████████████████████████████████████████████████████████████████████| 1407/1407 [00:16<00:00, 87.56it/s]\n"
     ]
    },
    {
     "name": "stdout",
     "output_type": "stream",
     "text": [
      "Epoch loss 0:  1031.7577931284904\n",
      "Avg loss 0:  0.7334787798707255\n"
     ]
    },
    {
     "name": "stderr",
     "output_type": "stream",
     "text": [
      "Evaluating: 100%|█████████████████████████████████████████████████████████████████████████████████████████████████| 157/157 [00:01<00:00, 91.98it/s]\n"
     ]
    },
    {
     "name": "stdout",
     "output_type": "stream",
     "text": [
      "ROC AUC: 0.9670\n",
      "Accuracy: 0.6956\n",
      "F1 Score: 0.6782\n",
      "Precision: 0.7931\n",
      "Recall: 0.7014\n",
      "Model saved\n",
      "Epoch 1/100\n"
     ]
    },
    {
     "name": "stderr",
     "output_type": "stream",
     "text": [
      "Training: 100%|█████████████████████████████████████████████████████████████████████████████████████████████████| 1407/1407 [00:16<00:00, 86.51it/s]\n"
     ]
    },
    {
     "name": "stdout",
     "output_type": "stream",
     "text": [
      "Epoch loss 1:  650.6322115808725\n",
      "Avg loss 1:  0.46244021691059056\n"
     ]
    },
    {
     "name": "stderr",
     "output_type": "stream",
     "text": [
      "Evaluating: 100%|████████████████████████████████████████████████████████████████████████████████████████████████| 157/157 [00:01<00:00, 110.27it/s]\n"
     ]
    },
    {
     "name": "stdout",
     "output_type": "stream",
     "text": [
      "ROC AUC: 0.9754\n",
      "Accuracy: 0.7029\n",
      "F1 Score: 0.6993\n",
      "Precision: 0.8098\n",
      "Recall: 0.7113\n",
      "Model saved\n",
      "Epoch 2/100\n"
     ]
    },
    {
     "name": "stderr",
     "output_type": "stream",
     "text": [
      "Training: 100%|█████████████████████████████████████████████████████████████████████████████████████████████████| 1407/1407 [00:16<00:00, 87.27it/s]\n"
     ]
    },
    {
     "name": "stdout",
     "output_type": "stream",
     "text": [
      "Epoch loss 2:  513.697937309742\n",
      "Avg loss 2:  0.36505218029361314\n"
     ]
    },
    {
     "name": "stderr",
     "output_type": "stream",
     "text": [
      "Evaluating: 100%|████████████████████████████████████████████████████████████████████████████████████████████████| 157/157 [00:01<00:00, 105.26it/s]\n"
     ]
    },
    {
     "name": "stdout",
     "output_type": "stream",
     "text": [
      "ROC AUC: 0.9886\n",
      "Accuracy: 0.8416\n",
      "F1 Score: 0.8430\n",
      "Precision: 0.8690\n",
      "Recall: 0.8423\n",
      "Model saved\n",
      "Epoch 3/100\n"
     ]
    },
    {
     "name": "stderr",
     "output_type": "stream",
     "text": [
      "Training: 100%|█████████████████████████████████████████████████████████████████████████████████████████████████| 1407/1407 [00:16<00:00, 87.37it/s]\n"
     ]
    },
    {
     "name": "stdout",
     "output_type": "stream",
     "text": [
      "Epoch loss 3:  448.3986052274704\n",
      "Avg loss 3:  0.31844103915452204\n"
     ]
    },
    {
     "name": "stderr",
     "output_type": "stream",
     "text": [
      "Evaluating: 100%|█████████████████████████████████████████████████████████████████████████████████████████████████| 157/157 [00:01<00:00, 93.62it/s]\n"
     ]
    },
    {
     "name": "stdout",
     "output_type": "stream",
     "text": [
      "ROC AUC: 0.9887\n",
      "Accuracy: 0.8539\n",
      "F1 Score: 0.8539\n",
      "Precision: 0.8727\n",
      "Recall: 0.8519\n",
      "Model saved\n",
      "Epoch 4/100\n"
     ]
    },
    {
     "name": "stderr",
     "output_type": "stream",
     "text": [
      "Training: 100%|█████████████████████████████████████████████████████████████████████████████████████████████████| 1407/1407 [00:16<00:00, 87.93it/s]\n"
     ]
    },
    {
     "name": "stdout",
     "output_type": "stream",
     "text": [
      "Epoch loss 4:  400.9390107244253\n",
      "Avg loss 4:  0.28448748086801057\n"
     ]
    },
    {
     "name": "stderr",
     "output_type": "stream",
     "text": [
      "Evaluating: 100%|█████████████████████████████████████████████████████████████████████████████████████████████████| 157/157 [00:01<00:00, 86.64it/s]\n"
     ]
    },
    {
     "name": "stdout",
     "output_type": "stream",
     "text": [
      "ROC AUC: 0.9848\n",
      "Accuracy: 0.7452\n",
      "F1 Score: 0.7380\n",
      "Precision: 0.8362\n",
      "Recall: 0.7506\n",
      "Epoch 5/100\n"
     ]
    },
    {
     "name": "stderr",
     "output_type": "stream",
     "text": [
      "Training: 100%|█████████████████████████████████████████████████████████████████████████████████████████████████| 1407/1407 [00:16<00:00, 87.47it/s]\n"
     ]
    },
    {
     "name": "stdout",
     "output_type": "stream",
     "text": [
      "Epoch loss 5:  365.57581758871675\n",
      "Avg loss 5:  0.2597938228066251\n"
     ]
    },
    {
     "name": "stderr",
     "output_type": "stream",
     "text": [
      "Evaluating: 100%|████████████████████████████████████████████████████████████████████████████████████████████████| 157/157 [00:01<00:00, 110.58it/s]\n"
     ]
    },
    {
     "name": "stdout",
     "output_type": "stream",
     "text": [
      "ROC AUC: 0.9855\n",
      "Accuracy: 0.8161\n",
      "F1 Score: 0.8190\n",
      "Precision: 0.8681\n",
      "Recall: 0.8143\n",
      "Epoch 6/100\n"
     ]
    },
    {
     "name": "stderr",
     "output_type": "stream",
     "text": [
      "Training: 100%|█████████████████████████████████████████████████████████████████████████████████████████████████| 1407/1407 [00:16<00:00, 87.12it/s]\n"
     ]
    },
    {
     "name": "stdout",
     "output_type": "stream",
     "text": [
      "Epoch loss 6:  341.68199956417084\n",
      "Avg loss 6:  0.24256948254003413\n"
     ]
    },
    {
     "name": "stderr",
     "output_type": "stream",
     "text": [
      "Evaluating: 100%|████████████████████████████████████████████████████████████████████████████████████████████████| 157/157 [00:01<00:00, 108.18it/s]\n"
     ]
    },
    {
     "name": "stdout",
     "output_type": "stream",
     "text": [
      "ROC AUC: 0.9920\n",
      "Accuracy: 0.8451\n",
      "F1 Score: 0.8315\n",
      "Precision: 0.8767\n",
      "Recall: 0.8399\n",
      "Epoch 7/100\n"
     ]
    },
    {
     "name": "stderr",
     "output_type": "stream",
     "text": [
      "Training: 100%|█████████████████████████████████████████████████████████████████████████████████████████████████| 1407/1407 [00:15<00:00, 88.87it/s]\n"
     ]
    },
    {
     "name": "stdout",
     "output_type": "stream",
     "text": [
      "Epoch loss 7:  308.7026444170624\n",
      "Avg loss 7:  0.21928963860971004\n"
     ]
    },
    {
     "name": "stderr",
     "output_type": "stream",
     "text": [
      "Evaluating: 100%|█████████████████████████████████████████████████████████████████████████████████████████████████| 157/157 [00:01<00:00, 97.80it/s]\n"
     ]
    },
    {
     "name": "stdout",
     "output_type": "stream",
     "text": [
      "ROC AUC: 0.9936\n",
      "Accuracy: 0.8876\n",
      "F1 Score: 0.8893\n",
      "Precision: 0.9005\n",
      "Recall: 0.8907\n",
      "Model saved\n",
      "Epoch 8/100\n"
     ]
    },
    {
     "name": "stderr",
     "output_type": "stream",
     "text": [
      "Training: 100%|█████████████████████████████████████████████████████████████████████████████████████████████████| 1407/1407 [00:16<00:00, 87.25it/s]\n"
     ]
    },
    {
     "name": "stdout",
     "output_type": "stream",
     "text": [
      "Epoch loss 8:  298.6898043602705\n",
      "Avg loss 8:  0.21220900386782496\n"
     ]
    },
    {
     "name": "stderr",
     "output_type": "stream",
     "text": [
      "Evaluating: 100%|█████████████████████████████████████████████████████████████████████████████████████████████████| 157/157 [00:01<00:00, 84.42it/s]\n"
     ]
    },
    {
     "name": "stdout",
     "output_type": "stream",
     "text": [
      "ROC AUC: 0.9896\n",
      "Accuracy: 0.8344\n",
      "F1 Score: 0.8239\n",
      "Precision: 0.8669\n",
      "Recall: 0.8243\n",
      "Epoch 9/100\n"
     ]
    },
    {
     "name": "stderr",
     "output_type": "stream",
     "text": [
      "Training: 100%|█████████████████████████████████████████████████████████████████████████████████████████████████| 1407/1407 [00:16<00:00, 86.45it/s]\n"
     ]
    },
    {
     "name": "stdout",
     "output_type": "stream",
     "text": [
      "Epoch loss 9:  283.49681704491377\n",
      "Avg loss 9:  0.19996039582557734\n"
     ]
    },
    {
     "name": "stderr",
     "output_type": "stream",
     "text": [
      "Evaluating: 100%|█████████████████████████████████████████████████████████████████████████████████████████████████| 157/157 [00:01<00:00, 99.52it/s]\n"
     ]
    },
    {
     "name": "stdout",
     "output_type": "stream",
     "text": [
      "ROC AUC: 0.9873\n",
      "Accuracy: 0.8228\n",
      "F1 Score: 0.8201\n",
      "Precision: 0.8615\n",
      "Recall: 0.8313\n",
      "Epoch 10/100\n"
     ]
    },
    {
     "name": "stderr",
     "output_type": "stream",
     "text": [
      "Training: 100%|█████████████████████████████████████████████████████████████████████████████████████████████████| 1407/1407 [00:16<00:00, 87.18it/s]\n"
     ]
    },
    {
     "name": "stdout",
     "output_type": "stream",
     "text": [
      "Epoch loss 10:  281.367315961048\n",
      "Avg loss 10:  0.19992930820038163\n"
     ]
    },
    {
     "name": "stderr",
     "output_type": "stream",
     "text": [
      "Evaluating: 100%|████████████████████████████████████████████████████████████████████████████████████████████████| 157/157 [00:01<00:00, 110.99it/s]\n"
     ]
    },
    {
     "name": "stdout",
     "output_type": "stream",
     "text": [
      "ROC AUC: 0.9959\n",
      "Accuracy: 0.9151\n",
      "F1 Score: 0.9169\n",
      "Precision: 0.9277\n",
      "Recall: 0.9149\n",
      "Model saved\n",
      "Epoch 11/100\n"
     ]
    },
    {
     "name": "stderr",
     "output_type": "stream",
     "text": [
      "Training: 100%|█████████████████████████████████████████████████████████████████████████████████████████████████| 1407/1407 [00:16<00:00, 87.69it/s]\n"
     ]
    },
    {
     "name": "stdout",
     "output_type": "stream",
     "text": [
      "Epoch loss 11:  257.27768302708864\n",
      "Avg loss 11:  0.1828575737721719\n"
     ]
    },
    {
     "name": "stderr",
     "output_type": "stream",
     "text": [
      "Evaluating: 100%|█████████████████████████████████████████████████████████████████████████████████████████████████| 157/157 [00:01<00:00, 90.03it/s]\n"
     ]
    },
    {
     "name": "stdout",
     "output_type": "stream",
     "text": [
      "ROC AUC: 0.9944\n",
      "Accuracy: 0.8953\n",
      "F1 Score: 0.8952\n",
      "Precision: 0.9094\n",
      "Recall: 0.8918\n",
      "Epoch 12/100\n"
     ]
    },
    {
     "name": "stderr",
     "output_type": "stream",
     "text": [
      "Training: 100%|█████████████████████████████████████████████████████████████████████████████████████████████████| 1407/1407 [00:16<00:00, 84.64it/s]\n"
     ]
    },
    {
     "name": "stdout",
     "output_type": "stream",
     "text": [
      "Epoch loss 12:  246.6845675520599\n",
      "Avg loss 12:  0.1754206906153224\n"
     ]
    },
    {
     "name": "stderr",
     "output_type": "stream",
     "text": [
      "Evaluating: 100%|█████████████████████████████████████████████████████████████████████████████████████████████████| 157/157 [00:01<00:00, 81.30it/s]\n"
     ]
    },
    {
     "name": "stdout",
     "output_type": "stream",
     "text": [
      "ROC AUC: 0.9946\n",
      "Accuracy: 0.9085\n",
      "F1 Score: 0.9087\n",
      "Precision: 0.9139\n",
      "Recall: 0.9068\n",
      "Epoch 13/100\n"
     ]
    },
    {
     "name": "stderr",
     "output_type": "stream",
     "text": [
      "Training: 100%|█████████████████████████████████████████████████████████████████████████████████████████████████| 1407/1407 [00:16<00:00, 87.51it/s]\n"
     ]
    },
    {
     "name": "stdout",
     "output_type": "stream",
     "text": [
      "Epoch loss 13:  244.43579844385386\n",
      "Avg loss 13:  0.17372667934967256\n"
     ]
    },
    {
     "name": "stderr",
     "output_type": "stream",
     "text": [
      "Evaluating: 100%|████████████████████████████████████████████████████████████████████████████████████████████████| 157/157 [00:01<00:00, 108.94it/s]\n"
     ]
    },
    {
     "name": "stdout",
     "output_type": "stream",
     "text": [
      "ROC AUC: 0.9951\n",
      "Accuracy: 0.9138\n",
      "F1 Score: 0.9124\n",
      "Precision: 0.9206\n",
      "Recall: 0.9111\n",
      "Epoch 14/100\n"
     ]
    },
    {
     "name": "stderr",
     "output_type": "stream",
     "text": [
      "Training: 100%|█████████████████████████████████████████████████████████████████████████████████████████████████| 1407/1407 [00:16<00:00, 87.16it/s]\n"
     ]
    },
    {
     "name": "stdout",
     "output_type": "stream",
     "text": [
      "Epoch loss 14:  229.87687896750867\n",
      "Avg loss 14:  0.16345762693850927\n"
     ]
    },
    {
     "name": "stderr",
     "output_type": "stream",
     "text": [
      "Evaluating: 100%|████████████████████████████████████████████████████████████████████████████████████████████████| 157/157 [00:01<00:00, 114.34it/s]\n"
     ]
    },
    {
     "name": "stdout",
     "output_type": "stream",
     "text": [
      "ROC AUC: 0.9961\n",
      "Accuracy: 0.9288\n",
      "F1 Score: 0.9289\n",
      "Precision: 0.9329\n",
      "Recall: 0.9269\n",
      "Model saved\n",
      "Epoch 15/100\n"
     ]
    },
    {
     "name": "stderr",
     "output_type": "stream",
     "text": [
      "Training: 100%|█████████████████████████████████████████████████████████████████████████████████████████████████| 1407/1407 [00:15<00:00, 88.41it/s]\n"
     ]
    },
    {
     "name": "stdout",
     "output_type": "stream",
     "text": [
      "Epoch loss 15:  217.25855423137546\n",
      "Avg loss 15:  0.1541353181137647\n"
     ]
    },
    {
     "name": "stderr",
     "output_type": "stream",
     "text": [
      "Evaluating: 100%|█████████████████████████████████████████████████████████████████████████████████████████████████| 157/157 [00:01<00:00, 89.61it/s]\n"
     ]
    },
    {
     "name": "stdout",
     "output_type": "stream",
     "text": [
      "ROC AUC: 0.9670\n",
      "Accuracy: 0.7662\n",
      "F1 Score: 0.7332\n",
      "Precision: 0.8069\n",
      "Recall: 0.7404\n",
      "Epoch 16/100\n"
     ]
    },
    {
     "name": "stderr",
     "output_type": "stream",
     "text": [
      "Training: 100%|█████████████████████████████████████████████████████████████████████████████████████████████████| 1407/1407 [00:15<00:00, 88.09it/s]\n"
     ]
    },
    {
     "name": "stdout",
     "output_type": "stream",
     "text": [
      "Epoch loss 16:  214.65142290014774\n",
      "Avg loss 16:  0.15247290819397216\n"
     ]
    },
    {
     "name": "stderr",
     "output_type": "stream",
     "text": [
      "Evaluating: 100%|█████████████████████████████████████████████████████████████████████████████████████████████████| 157/157 [00:01<00:00, 85.07it/s]\n"
     ]
    },
    {
     "name": "stdout",
     "output_type": "stream",
     "text": [
      "ROC AUC: 0.9966\n",
      "Accuracy: 0.9339\n",
      "F1 Score: 0.9334\n",
      "Precision: 0.9375\n",
      "Recall: 0.9316\n",
      "Model saved\n",
      "Epoch 17/100\n"
     ]
    },
    {
     "name": "stderr",
     "output_type": "stream",
     "text": [
      "Training: 100%|█████████████████████████████████████████████████████████████████████████████████████████████████| 1407/1407 [00:15<00:00, 88.13it/s]\n"
     ]
    },
    {
     "name": "stdout",
     "output_type": "stream",
     "text": [
      "Epoch loss 17:  211.56673140451312\n",
      "Avg loss 17:  0.15014517894876953\n"
     ]
    },
    {
     "name": "stderr",
     "output_type": "stream",
     "text": [
      "Evaluating: 100%|████████████████████████████████████████████████████████████████████████████████████████████████| 157/157 [00:01<00:00, 104.32it/s]\n"
     ]
    },
    {
     "name": "stdout",
     "output_type": "stream",
     "text": [
      "ROC AUC: 0.9951\n",
      "Accuracy: 0.8772\n",
      "F1 Score: 0.8785\n",
      "Precision: 0.8947\n",
      "Recall: 0.8823\n",
      "Epoch 18/100\n"
     ]
    },
    {
     "name": "stderr",
     "output_type": "stream",
     "text": [
      "Training: 100%|█████████████████████████████████████████████████████████████████████████████████████████████████| 1407/1407 [00:16<00:00, 87.24it/s]\n"
     ]
    },
    {
     "name": "stdout",
     "output_type": "stream",
     "text": [
      "Epoch loss 18:  211.8226030683145\n",
      "Avg loss 18:  0.15045421382610924\n"
     ]
    },
    {
     "name": "stderr",
     "output_type": "stream",
     "text": [
      "Evaluating: 100%|████████████████████████████████████████████████████████████████████████████████████████████████| 157/157 [00:01<00:00, 112.51it/s]\n"
     ]
    },
    {
     "name": "stdout",
     "output_type": "stream",
     "text": [
      "ROC AUC: 0.9969\n",
      "Accuracy: 0.9240\n",
      "F1 Score: 0.9232\n",
      "Precision: 0.9285\n",
      "Recall: 0.9245\n",
      "Epoch 19/100\n"
     ]
    },
    {
     "name": "stderr",
     "output_type": "stream",
     "text": [
      "Training: 100%|█████████████████████████████████████████████████████████████████████████████████████████████████| 1407/1407 [00:15<00:00, 88.46it/s]\n"
     ]
    },
    {
     "name": "stdout",
     "output_type": "stream",
     "text": [
      "Epoch loss 19:  192.62088631931692\n",
      "Avg loss 19:  0.136370718233442\n"
     ]
    },
    {
     "name": "stderr",
     "output_type": "stream",
     "text": [
      "Evaluating: 100%|█████████████████████████████████████████████████████████████████████████████████████████████████| 157/157 [00:01<00:00, 93.93it/s]\n"
     ]
    },
    {
     "name": "stdout",
     "output_type": "stream",
     "text": [
      "ROC AUC: 0.9911\n",
      "Accuracy: 0.8309\n",
      "F1 Score: 0.8184\n",
      "Precision: 0.8702\n",
      "Recall: 0.8292\n",
      "Epoch 20/100\n"
     ]
    },
    {
     "name": "stderr",
     "output_type": "stream",
     "text": [
      "Training: 100%|█████████████████████████████████████████████████████████████████████████████████████████████████| 1407/1407 [00:15<00:00, 88.44it/s]\n"
     ]
    },
    {
     "name": "stdout",
     "output_type": "stream",
     "text": [
      "Epoch loss 20:  195.03490409906954\n",
      "Avg loss 20:  0.1384366870123819\n"
     ]
    },
    {
     "name": "stderr",
     "output_type": "stream",
     "text": [
      "Evaluating: 100%|█████████████████████████████████████████████████████████████████████████████████████████████████| 157/157 [00:01<00:00, 83.08it/s]\n"
     ]
    },
    {
     "name": "stdout",
     "output_type": "stream",
     "text": [
      "ROC AUC: 0.9968\n",
      "Accuracy: 0.9286\n",
      "F1 Score: 0.9267\n",
      "Precision: 0.9314\n",
      "Recall: 0.9262\n",
      "Epoch 21/100\n"
     ]
    },
    {
     "name": "stderr",
     "output_type": "stream",
     "text": [
      "Training: 100%|█████████████████████████████████████████████████████████████████████████████████████████████████| 1407/1407 [00:16<00:00, 87.17it/s]\n"
     ]
    },
    {
     "name": "stdout",
     "output_type": "stream",
     "text": [
      "Epoch loss 21:  189.33167102281004\n",
      "Avg loss 21:  0.13454861369968663\n"
     ]
    },
    {
     "name": "stderr",
     "output_type": "stream",
     "text": [
      "Evaluating: 100%|█████████████████████████████████████████████████████████████████████████████████████████████████| 157/157 [00:01<00:00, 97.22it/s]\n"
     ]
    },
    {
     "name": "stdout",
     "output_type": "stream",
     "text": [
      "ROC AUC: 0.9975\n",
      "Accuracy: 0.9388\n",
      "F1 Score: 0.9381\n",
      "Precision: 0.9406\n",
      "Recall: 0.9391\n",
      "Model saved\n",
      "Epoch 22/100\n"
     ]
    },
    {
     "name": "stderr",
     "output_type": "stream",
     "text": [
      "Training: 100%|█████████████████████████████████████████████████████████████████████████████████████████████████| 1407/1407 [00:16<00:00, 87.37it/s]\n"
     ]
    },
    {
     "name": "stdout",
     "output_type": "stream",
     "text": [
      "Epoch loss 22:  189.12013270426542\n",
      "Avg loss 22:  0.13440517668639498\n"
     ]
    },
    {
     "name": "stderr",
     "output_type": "stream",
     "text": [
      "Evaluating: 100%|████████████████████████████████████████████████████████████████████████████████████████████████| 157/157 [00:01<00:00, 107.98it/s]\n"
     ]
    },
    {
     "name": "stdout",
     "output_type": "stream",
     "text": [
      "ROC AUC: 0.9972\n",
      "Accuracy: 0.9489\n",
      "F1 Score: 0.9482\n",
      "Precision: 0.9494\n",
      "Recall: 0.9488\n",
      "Model saved\n",
      "Epoch 23/100\n"
     ]
    },
    {
     "name": "stderr",
     "output_type": "stream",
     "text": [
      "Training: 100%|█████████████████████████████████████████████████████████████████████████████████████████████████| 1407/1407 [00:16<00:00, 87.39it/s]\n"
     ]
    },
    {
     "name": "stdout",
     "output_type": "stream",
     "text": [
      "Epoch loss 23:  183.45898398035206\n",
      "Avg loss 23:  0.13046422239185487\n"
     ]
    },
    {
     "name": "stderr",
     "output_type": "stream",
     "text": [
      "Evaluating: 100%|████████████████████████████████████████████████████████████████████████████████████████████████| 157/157 [00:01<00:00, 102.76it/s]\n"
     ]
    },
    {
     "name": "stdout",
     "output_type": "stream",
     "text": [
      "ROC AUC: 0.9966\n",
      "Accuracy: 0.9351\n",
      "F1 Score: 0.9332\n",
      "Precision: 0.9382\n",
      "Recall: 0.9299\n",
      "Epoch 24/100\n"
     ]
    },
    {
     "name": "stderr",
     "output_type": "stream",
     "text": [
      "Training: 100%|█████████████████████████████████████████████████████████████████████████████████████████████████| 1407/1407 [00:15<00:00, 87.99it/s]\n"
     ]
    },
    {
     "name": "stdout",
     "output_type": "stream",
     "text": [
      "Epoch loss 24:  176.97734497347847\n",
      "Avg loss 24:  0.12562270149872712\n"
     ]
    },
    {
     "name": "stderr",
     "output_type": "stream",
     "text": [
      "Evaluating: 100%|█████████████████████████████████████████████████████████████████████████████████████████████████| 157/157 [00:01<00:00, 82.21it/s]\n"
     ]
    },
    {
     "name": "stdout",
     "output_type": "stream",
     "text": [
      "ROC AUC: 0.9962\n",
      "Accuracy: 0.9135\n",
      "F1 Score: 0.9152\n",
      "Precision: 0.9211\n",
      "Recall: 0.9144\n",
      "Epoch 25/100\n"
     ]
    },
    {
     "name": "stderr",
     "output_type": "stream",
     "text": [
      "Training: 100%|█████████████████████████████████████████████████████████████████████████████████████████████████| 1407/1407 [00:16<00:00, 86.09it/s]\n"
     ]
    },
    {
     "name": "stdout",
     "output_type": "stream",
     "text": [
      "Epoch loss 25:  168.63796350732446\n",
      "Avg loss 25:  0.11987405902241605\n"
     ]
    },
    {
     "name": "stderr",
     "output_type": "stream",
     "text": [
      "Evaluating: 100%|█████████████████████████████████████████████████████████████████████████████████████████████████| 157/157 [00:01<00:00, 96.75it/s]\n"
     ]
    },
    {
     "name": "stdout",
     "output_type": "stream",
     "text": [
      "ROC AUC: 0.9978\n",
      "Accuracy: 0.9481\n",
      "F1 Score: 0.9486\n",
      "Precision: 0.9489\n",
      "Recall: 0.9501\n",
      "Epoch 26/100\n"
     ]
    },
    {
     "name": "stderr",
     "output_type": "stream",
     "text": [
      "Training: 100%|█████████████████████████████████████████████████████████████████████████████████████████████████| 1407/1407 [00:15<00:00, 88.78it/s]\n"
     ]
    },
    {
     "name": "stdout",
     "output_type": "stream",
     "text": [
      "Epoch loss 26:  166.02335159480572\n",
      "Avg loss 26:  0.11797790632398295\n"
     ]
    },
    {
     "name": "stderr",
     "output_type": "stream",
     "text": [
      "Evaluating: 100%|████████████████████████████████████████████████████████████████████████████████████████████████| 157/157 [00:01<00:00, 111.39it/s]\n"
     ]
    },
    {
     "name": "stdout",
     "output_type": "stream",
     "text": [
      "ROC AUC: 0.9968\n",
      "Accuracy: 0.9285\n",
      "F1 Score: 0.9282\n",
      "Precision: 0.9328\n",
      "Recall: 0.9252\n",
      "Epoch 27/100\n"
     ]
    },
    {
     "name": "stderr",
     "output_type": "stream",
     "text": [
      "Training: 100%|█████████████████████████████████████████████████████████████████████████████████████████████████| 1407/1407 [00:16<00:00, 87.61it/s]\n"
     ]
    },
    {
     "name": "stdout",
     "output_type": "stream",
     "text": [
      "Epoch loss 27:  166.4357001008466\n",
      "Avg loss 27:  0.11824308761244716\n"
     ]
    },
    {
     "name": "stderr",
     "output_type": "stream",
     "text": [
      "Evaluating: 100%|████████████████████████████████████████████████████████████████████████████████████████████████| 157/157 [00:01<00:00, 104.00it/s]\n"
     ]
    },
    {
     "name": "stdout",
     "output_type": "stream",
     "text": [
      "ROC AUC: 0.9976\n",
      "Accuracy: 0.9392\n",
      "F1 Score: 0.9390\n",
      "Precision: 0.9418\n",
      "Recall: 0.9379\n",
      "Epoch 28/100\n"
     ]
    },
    {
     "name": "stderr",
     "output_type": "stream",
     "text": [
      "Training: 100%|█████████████████████████████████████████████████████████████████████████████████████████████████| 1407/1407 [00:16<00:00, 84.94it/s]\n"
     ]
    },
    {
     "name": "stdout",
     "output_type": "stream",
     "text": [
      "Epoch loss 28:  158.51547023793682\n",
      "Avg loss 28:  0.11235230946100798\n"
     ]
    },
    {
     "name": "stderr",
     "output_type": "stream",
     "text": [
      "Evaluating: 100%|█████████████████████████████████████████████████████████████████████████████████████████████████| 157/157 [00:01<00:00, 80.69it/s]\n"
     ]
    },
    {
     "name": "stdout",
     "output_type": "stream",
     "text": [
      "ROC AUC: 0.9969\n",
      "Accuracy: 0.9291\n",
      "F1 Score: 0.9302\n",
      "Precision: 0.9385\n",
      "Recall: 0.9293\n",
      "Epoch 29/100\n"
     ]
    },
    {
     "name": "stderr",
     "output_type": "stream",
     "text": [
      "Training: 100%|█████████████████████████████████████████████████████████████████████████████████████████████████| 1407/1407 [00:15<00:00, 90.19it/s]\n"
     ]
    },
    {
     "name": "stdout",
     "output_type": "stream",
     "text": [
      "Epoch loss 29:  159.27542616194114\n",
      "Avg loss 29:  0.1126971655741385\n"
     ]
    },
    {
     "name": "stderr",
     "output_type": "stream",
     "text": [
      "Evaluating: 100%|█████████████████████████████████████████████████████████████████████████████████████████████████| 157/157 [00:01<00:00, 85.84it/s]\n"
     ]
    },
    {
     "name": "stdout",
     "output_type": "stream",
     "text": [
      "ROC AUC: 0.9950\n",
      "Accuracy: 0.8863\n",
      "F1 Score: 0.8873\n",
      "Precision: 0.9056\n",
      "Recall: 0.8967\n",
      "Epoch 30/100\n"
     ]
    },
    {
     "name": "stderr",
     "output_type": "stream",
     "text": [
      "Training: 100%|█████████████████████████████████████████████████████████████████████████████████████████████████| 1407/1407 [00:15<00:00, 88.84it/s]\n"
     ]
    },
    {
     "name": "stdout",
     "output_type": "stream",
     "text": [
      "Epoch loss 30:  157.32644223235548\n",
      "Avg loss 30:  0.11132290394545989\n"
     ]
    },
    {
     "name": "stderr",
     "output_type": "stream",
     "text": [
      "Evaluating: 100%|████████████████████████████████████████████████████████████████████████████████████████████████| 157/157 [00:01<00:00, 109.08it/s]\n"
     ]
    },
    {
     "name": "stdout",
     "output_type": "stream",
     "text": [
      "ROC AUC: 0.9981\n",
      "Accuracy: 0.9502\n",
      "F1 Score: 0.9494\n",
      "Precision: 0.9516\n",
      "Recall: 0.9489\n",
      "Model saved\n",
      "Epoch 31/100\n"
     ]
    },
    {
     "name": "stderr",
     "output_type": "stream",
     "text": [
      "Training: 100%|█████████████████████████████████████████████████████████████████████████████████████████████████| 1407/1407 [00:16<00:00, 86.43it/s]\n"
     ]
    },
    {
     "name": "stdout",
     "output_type": "stream",
     "text": [
      "Epoch loss 31:  151.81839955365285\n",
      "Avg loss 31:  0.10792686769729604\n"
     ]
    },
    {
     "name": "stderr",
     "output_type": "stream",
     "text": [
      "Evaluating: 100%|████████████████████████████████████████████████████████████████████████████████████████████████| 157/157 [00:01<00:00, 112.77it/s]\n"
     ]
    },
    {
     "name": "stdout",
     "output_type": "stream",
     "text": [
      "ROC AUC: 0.9977\n",
      "Accuracy: 0.9340\n",
      "F1 Score: 0.9357\n",
      "Precision: 0.9384\n",
      "Recall: 0.9371\n",
      "Epoch 32/100\n"
     ]
    },
    {
     "name": "stderr",
     "output_type": "stream",
     "text": [
      "Training: 100%|█████████████████████████████████████████████████████████████████████████████████████████████████| 1407/1407 [00:16<00:00, 87.08it/s]\n"
     ]
    },
    {
     "name": "stdout",
     "output_type": "stream",
     "text": [
      "Epoch loss 32:  148.35303389839828\n",
      "Avg loss 32:  0.10536908107753054\n"
     ]
    },
    {
     "name": "stderr",
     "output_type": "stream",
     "text": [
      "Evaluating: 100%|█████████████████████████████████████████████████████████████████████████████████████████████████| 157/157 [00:01<00:00, 83.80it/s]\n"
     ]
    },
    {
     "name": "stdout",
     "output_type": "stream",
     "text": [
      "ROC AUC: 0.9978\n",
      "Accuracy: 0.9469\n",
      "F1 Score: 0.9469\n",
      "Precision: 0.9484\n",
      "Recall: 0.9475\n",
      "Epoch 33/100\n"
     ]
    },
    {
     "name": "stderr",
     "output_type": "stream",
     "text": [
      "Training: 100%|█████████████████████████████████████████████████████████████████████████████████████████████████| 1407/1407 [00:16<00:00, 84.91it/s]\n"
     ]
    },
    {
     "name": "stdout",
     "output_type": "stream",
     "text": [
      "Epoch loss 33:  143.46002141665667\n",
      "Avg loss 33:  0.1020061081360036\n"
     ]
    },
    {
     "name": "stderr",
     "output_type": "stream",
     "text": [
      "Evaluating: 100%|█████████████████████████████████████████████████████████████████████████████████████████████████| 157/157 [00:01<00:00, 88.47it/s]\n"
     ]
    },
    {
     "name": "stdout",
     "output_type": "stream",
     "text": [
      "ROC AUC: 0.9982\n",
      "Accuracy: 0.9544\n",
      "F1 Score: 0.9542\n",
      "Precision: 0.9560\n",
      "Recall: 0.9537\n",
      "Model saved\n",
      "Epoch 34/100\n"
     ]
    },
    {
     "name": "stderr",
     "output_type": "stream",
     "text": [
      "Training: 100%|█████████████████████████████████████████████████████████████████████████████████████████████████| 1407/1407 [00:16<00:00, 87.45it/s]\n"
     ]
    },
    {
     "name": "stdout",
     "output_type": "stream",
     "text": [
      "Epoch loss 34:  146.12618811428547\n",
      "Avg loss 34:  0.10387548464554681\n"
     ]
    },
    {
     "name": "stderr",
     "output_type": "stream",
     "text": [
      "Evaluating: 100%|████████████████████████████████████████████████████████████████████████████████████████████████| 157/157 [00:01<00:00, 113.82it/s]\n"
     ]
    },
    {
     "name": "stdout",
     "output_type": "stream",
     "text": [
      "ROC AUC: 0.9973\n",
      "Accuracy: 0.9311\n",
      "F1 Score: 0.9308\n",
      "Precision: 0.9355\n",
      "Recall: 0.9286\n",
      "Epoch 35/100\n"
     ]
    },
    {
     "name": "stderr",
     "output_type": "stream",
     "text": [
      "Training: 100%|█████████████████████████████████████████████████████████████████████████████████████████████████| 1407/1407 [00:15<00:00, 89.64it/s]\n"
     ]
    },
    {
     "name": "stdout",
     "output_type": "stream",
     "text": [
      "Epoch loss 35:  144.45189020968974\n",
      "Avg loss 35:  0.10272314282089635\n"
     ]
    },
    {
     "name": "stderr",
     "output_type": "stream",
     "text": [
      "Evaluating: 100%|████████████████████████████████████████████████████████████████████████████████████████████████| 157/157 [00:01<00:00, 112.76it/s]\n"
     ]
    },
    {
     "name": "stdout",
     "output_type": "stream",
     "text": [
      "ROC AUC: 0.9979\n",
      "Accuracy: 0.9447\n",
      "F1 Score: 0.9438\n",
      "Precision: 0.9476\n",
      "Recall: 0.9436\n",
      "Epoch 36/100\n"
     ]
    },
    {
     "name": "stderr",
     "output_type": "stream",
     "text": [
      "Training: 100%|█████████████████████████████████████████████████████████████████████████████████████████████████| 1407/1407 [00:15<00:00, 88.85it/s]\n"
     ]
    },
    {
     "name": "stdout",
     "output_type": "stream",
     "text": [
      "Epoch loss 36:  145.99276103498414\n",
      "Avg loss 36:  0.10374460314377355\n"
     ]
    },
    {
     "name": "stderr",
     "output_type": "stream",
     "text": [
      "Evaluating: 100%|█████████████████████████████████████████████████████████████████████████████████████████████████| 157/157 [00:01<00:00, 92.42it/s]\n"
     ]
    },
    {
     "name": "stdout",
     "output_type": "stream",
     "text": [
      "ROC AUC: 0.9981\n",
      "Accuracy: 0.9569\n",
      "F1 Score: 0.9570\n",
      "Precision: 0.9584\n",
      "Recall: 0.9572\n",
      "Model saved\n",
      "Epoch 37/100\n"
     ]
    },
    {
     "name": "stderr",
     "output_type": "stream",
     "text": [
      "Training: 100%|█████████████████████████████████████████████████████████████████████████████████████████████████| 1407/1407 [00:16<00:00, 87.82it/s]\n"
     ]
    },
    {
     "name": "stdout",
     "output_type": "stream",
     "text": [
      "Epoch loss 37:  138.17891515465453\n",
      "Avg loss 37:  0.09802479394479954\n"
     ]
    },
    {
     "name": "stderr",
     "output_type": "stream",
     "text": [
      "Evaluating: 100%|█████████████████████████████████████████████████████████████████████████████████████████████████| 157/157 [00:01<00:00, 89.10it/s]\n"
     ]
    },
    {
     "name": "stdout",
     "output_type": "stream",
     "text": [
      "ROC AUC: 0.9976\n",
      "Accuracy: 0.9372\n",
      "F1 Score: 0.9370\n",
      "Precision: 0.9410\n",
      "Recall: 0.9384\n",
      "Epoch 38/100\n"
     ]
    },
    {
     "name": "stderr",
     "output_type": "stream",
     "text": [
      "Training: 100%|█████████████████████████████████████████████████████████████████████████████████████████████████| 1407/1407 [00:16<00:00, 87.24it/s]\n"
     ]
    },
    {
     "name": "stdout",
     "output_type": "stream",
     "text": [
      "Epoch loss 38:  142.85108052333817\n",
      "Avg loss 38:  0.10099749385819148\n"
     ]
    },
    {
     "name": "stderr",
     "output_type": "stream",
     "text": [
      "Evaluating: 100%|█████████████████████████████████████████████████████████████████████████████████████████████████| 157/157 [00:01<00:00, 99.36it/s]\n"
     ]
    },
    {
     "name": "stdout",
     "output_type": "stream",
     "text": [
      "ROC AUC: 0.9984\n",
      "Accuracy: 0.9501\n",
      "F1 Score: 0.9495\n",
      "Precision: 0.9513\n",
      "Recall: 0.9500\n",
      "Epoch 39/100\n"
     ]
    },
    {
     "name": "stderr",
     "output_type": "stream",
     "text": [
      "Training: 100%|█████████████████████████████████████████████████████████████████████████████████████████████████| 1407/1407 [00:16<00:00, 87.78it/s]\n"
     ]
    },
    {
     "name": "stdout",
     "output_type": "stream",
     "text": [
      "Epoch loss 39:  137.56256206613034\n",
      "Avg loss 39:  0.09777491304863982\n"
     ]
    },
    {
     "name": "stderr",
     "output_type": "stream",
     "text": [
      "Evaluating: 100%|████████████████████████████████████████████████████████████████████████████████████████████████| 157/157 [00:01<00:00, 112.54it/s]\n"
     ]
    },
    {
     "name": "stdout",
     "output_type": "stream",
     "text": [
      "ROC AUC: 0.9984\n",
      "Accuracy: 0.9495\n",
      "F1 Score: 0.9509\n",
      "Precision: 0.9531\n",
      "Recall: 0.9527\n",
      "Epoch 40/100\n"
     ]
    },
    {
     "name": "stderr",
     "output_type": "stream",
     "text": [
      "Training: 100%|█████████████████████████████████████████████████████████████████████████████████████████████████| 1407/1407 [00:16<00:00, 86.60it/s]\n"
     ]
    },
    {
     "name": "stdout",
     "output_type": "stream",
     "text": [
      "Epoch loss 40:  129.42113287281245\n",
      "Avg loss 40:  0.09075390917642143\n"
     ]
    },
    {
     "name": "stderr",
     "output_type": "stream",
     "text": [
      "Evaluating: 100%|█████████████████████████████████████████████████████████████████████████████████████████████████| 157/157 [00:01<00:00, 98.97it/s]\n"
     ]
    },
    {
     "name": "stdout",
     "output_type": "stream",
     "text": [
      "ROC AUC: 0.9978\n",
      "Accuracy: 0.9432\n",
      "F1 Score: 0.9427\n",
      "Precision: 0.9463\n",
      "Recall: 0.9421\n",
      "Epoch 41/100\n"
     ]
    },
    {
     "name": "stderr",
     "output_type": "stream",
     "text": [
      "Training: 100%|█████████████████████████████████████████████████████████████████████████████████████████████████| 1407/1407 [00:16<00:00, 87.37it/s]\n"
     ]
    },
    {
     "name": "stdout",
     "output_type": "stream",
     "text": [
      "Epoch loss 41:  139.16277037502732\n",
      "Avg loss 41:  0.0989143386647278\n"
     ]
    },
    {
     "name": "stderr",
     "output_type": "stream",
     "text": [
      "Evaluating: 100%|█████████████████████████████████████████████████████████████████████████████████████████████████| 157/157 [00:01<00:00, 86.58it/s]\n"
     ]
    },
    {
     "name": "stdout",
     "output_type": "stream",
     "text": [
      "ROC AUC: 0.9977\n",
      "Accuracy: 0.9295\n",
      "F1 Score: 0.9290\n",
      "Precision: 0.9345\n",
      "Recall: 0.9307\n",
      "Epoch 42/100\n"
     ]
    },
    {
     "name": "stderr",
     "output_type": "stream",
     "text": [
      "Training: 100%|█████████████████████████████████████████████████████████████████████████████████████████████████| 1407/1407 [00:15<00:00, 88.23it/s]\n"
     ]
    },
    {
     "name": "stdout",
     "output_type": "stream",
     "text": [
      "Epoch loss 42:  127.50399917783216\n",
      "Avg loss 42:  0.09062245138338224\n"
     ]
    },
    {
     "name": "stderr",
     "output_type": "stream",
     "text": [
      "Evaluating: 100%|█████████████████████████████████████████████████████████████████████████████████████████████████| 157/157 [00:01<00:00, 94.13it/s]\n"
     ]
    },
    {
     "name": "stdout",
     "output_type": "stream",
     "text": [
      "ROC AUC: 0.9983\n",
      "Accuracy: 0.9476\n",
      "F1 Score: 0.9485\n",
      "Precision: 0.9517\n",
      "Recall: 0.9471\n",
      "Epoch 43/100\n"
     ]
    },
    {
     "name": "stderr",
     "output_type": "stream",
     "text": [
      "Training: 100%|█████████████████████████████████████████████████████████████████████████████████████████████████| 1407/1407 [00:15<00:00, 89.78it/s]\n"
     ]
    },
    {
     "name": "stdout",
     "output_type": "stream",
     "text": [
      "Epoch loss 43:  131.3660344015807\n",
      "Avg loss 43:  0.09331865545243516\n"
     ]
    },
    {
     "name": "stderr",
     "output_type": "stream",
     "text": [
      "Evaluating: 100%|████████████████████████████████████████████████████████████████████████████████████████████████| 157/157 [00:01<00:00, 112.27it/s]\n"
     ]
    },
    {
     "name": "stdout",
     "output_type": "stream",
     "text": [
      "ROC AUC: 0.9968\n",
      "Accuracy: 0.9294\n",
      "F1 Score: 0.9272\n",
      "Precision: 0.9375\n",
      "Recall: 0.9251\n",
      "Epoch 44/100\n"
     ]
    },
    {
     "name": "stderr",
     "output_type": "stream",
     "text": [
      "Training: 100%|█████████████████████████████████████████████████████████████████████████████████████████████████| 1407/1407 [00:16<00:00, 87.73it/s]\n"
     ]
    },
    {
     "name": "stdout",
     "output_type": "stream",
     "text": [
      "Epoch loss 44:  129.49742087093182\n",
      "Avg loss 44:  0.0920503391123074\n"
     ]
    },
    {
     "name": "stderr",
     "output_type": "stream",
     "text": [
      "Evaluating: 100%|████████████████████████████████████████████████████████████████████████████████████████████████| 157/157 [00:01<00:00, 108.14it/s]\n"
     ]
    },
    {
     "name": "stdout",
     "output_type": "stream",
     "text": [
      "ROC AUC: 0.9985\n",
      "Accuracy: 0.9565\n",
      "F1 Score: 0.9568\n",
      "Precision: 0.9582\n",
      "Recall: 0.9563\n",
      "Epoch 45/100\n"
     ]
    },
    {
     "name": "stderr",
     "output_type": "stream",
     "text": [
      "Training: 100%|█████████████████████████████████████████████████████████████████████████████████████████████████| 1407/1407 [00:16<00:00, 85.75it/s]\n"
     ]
    },
    {
     "name": "stdout",
     "output_type": "stream",
     "text": [
      "Epoch loss 45:  127.74852128443308\n",
      "Avg loss 45:  0.09080752433309995\n"
     ]
    },
    {
     "name": "stderr",
     "output_type": "stream",
     "text": [
      "Evaluating: 100%|█████████████████████████████████████████████████████████████████████████████████████████████████| 157/157 [00:01<00:00, 86.08it/s]\n"
     ]
    },
    {
     "name": "stdout",
     "output_type": "stream",
     "text": [
      "ROC AUC: 0.9986\n",
      "Accuracy: 0.9575\n",
      "F1 Score: 0.9568\n",
      "Precision: 0.9578\n",
      "Recall: 0.9571\n",
      "Model saved\n",
      "Epoch 46/100\n"
     ]
    },
    {
     "name": "stderr",
     "output_type": "stream",
     "text": [
      "Training: 100%|█████████████████████████████████████████████████████████████████████████████████████████████████| 1407/1407 [00:16<00:00, 86.52it/s]\n"
     ]
    },
    {
     "name": "stdout",
     "output_type": "stream",
     "text": [
      "Epoch loss 46:  123.25300297047943\n",
      "Avg loss 46:  0.08753210693350093\n"
     ]
    },
    {
     "name": "stderr",
     "output_type": "stream",
     "text": [
      "Evaluating: 100%|█████████████████████████████████████████████████████████████████████████████████████████████████| 157/157 [00:01<00:00, 85.38it/s]\n"
     ]
    },
    {
     "name": "stdout",
     "output_type": "stream",
     "text": [
      "ROC AUC: 0.9987\n",
      "Accuracy: 0.9610\n",
      "F1 Score: 0.9607\n",
      "Precision: 0.9618\n",
      "Recall: 0.9602\n",
      "Model saved\n",
      "Epoch 47/100\n"
     ]
    },
    {
     "name": "stderr",
     "output_type": "stream",
     "text": [
      "Training: 100%|█████████████████████████████████████████████████████████████████████████████████████████████████| 1407/1407 [00:16<00:00, 86.28it/s]\n"
     ]
    },
    {
     "name": "stdout",
     "output_type": "stream",
     "text": [
      "Epoch loss 47:  119.42181710340083\n",
      "Avg loss 47:  0.0848405839636663\n"
     ]
    },
    {
     "name": "stderr",
     "output_type": "stream",
     "text": [
      "Evaluating: 100%|████████████████████████████████████████████████████████████████████████████████████████████████| 157/157 [00:01<00:00, 113.29it/s]\n"
     ]
    },
    {
     "name": "stdout",
     "output_type": "stream",
     "text": [
      "ROC AUC: 0.9977\n",
      "Accuracy: 0.9501\n",
      "F1 Score: 0.9500\n",
      "Precision: 0.9526\n",
      "Recall: 0.9485\n",
      "Epoch 48/100\n"
     ]
    },
    {
     "name": "stderr",
     "output_type": "stream",
     "text": [
      "Training: 100%|█████████████████████████████████████████████████████████████████████████████████████████████████| 1407/1407 [00:16<00:00, 86.29it/s]\n"
     ]
    },
    {
     "name": "stdout",
     "output_type": "stream",
     "text": [
      "Epoch loss 48:  125.19641689979471\n",
      "Avg loss 48:  0.0889460099332425\n"
     ]
    },
    {
     "name": "stderr",
     "output_type": "stream",
     "text": [
      "Evaluating: 100%|████████████████████████████████████████████████████████████████████████████████████████████████| 157/157 [00:01<00:00, 109.76it/s]\n"
     ]
    },
    {
     "name": "stdout",
     "output_type": "stream",
     "text": [
      "ROC AUC: 0.9971\n",
      "Accuracy: 0.9346\n",
      "F1 Score: 0.9345\n",
      "Precision: 0.9397\n",
      "Recall: 0.9330\n",
      "Epoch 49/100\n"
     ]
    },
    {
     "name": "stderr",
     "output_type": "stream",
     "text": [
      "Training: 100%|█████████████████████████████████████████████████████████████████████████████████████████████████| 1407/1407 [00:16<00:00, 87.52it/s]\n"
     ]
    },
    {
     "name": "stdout",
     "output_type": "stream",
     "text": [
      "Epoch loss 49:  120.23705613031052\n",
      "Avg loss 49:  0.08527075529844927\n"
     ]
    },
    {
     "name": "stderr",
     "output_type": "stream",
     "text": [
      "Evaluating: 100%|█████████████████████████████████████████████████████████████████████████████████████████████████| 157/157 [00:01<00:00, 91.57it/s]\n"
     ]
    },
    {
     "name": "stdout",
     "output_type": "stream",
     "text": [
      "ROC AUC: 0.9983\n",
      "Accuracy: 0.9492\n",
      "F1 Score: 0.9494\n",
      "Precision: 0.9513\n",
      "Recall: 0.9505\n",
      "Epoch 50/100\n"
     ]
    },
    {
     "name": "stderr",
     "output_type": "stream",
     "text": [
      "Training: 100%|█████████████████████████████████████████████████████████████████████████████████████████████████| 1407/1407 [00:16<00:00, 85.99it/s]\n"
     ]
    },
    {
     "name": "stdout",
     "output_type": "stream",
     "text": [
      "Epoch loss 50:  117.49688543239608\n",
      "Avg loss 50:  0.08297588045833969\n"
     ]
    },
    {
     "name": "stderr",
     "output_type": "stream",
     "text": [
      "Evaluating: 100%|█████████████████████████████████████████████████████████████████████████████████████████████████| 157/157 [00:01<00:00, 90.63it/s]\n"
     ]
    },
    {
     "name": "stdout",
     "output_type": "stream",
     "text": [
      "ROC AUC: 0.9983\n",
      "Accuracy: 0.9553\n",
      "F1 Score: 0.9549\n",
      "Precision: 0.9579\n",
      "Recall: 0.9534\n",
      "Epoch 51/100\n"
     ]
    },
    {
     "name": "stderr",
     "output_type": "stream",
     "text": [
      "Training: 100%|█████████████████████████████████████████████████████████████████████████████████████████████████| 1407/1407 [00:15<00:00, 88.77it/s]\n"
     ]
    },
    {
     "name": "stdout",
     "output_type": "stream",
     "text": [
      "Epoch loss 51:  124.45684280246496\n",
      "Avg loss 51:  0.08846265180744677\n"
     ]
    },
    {
     "name": "stderr",
     "output_type": "stream",
     "text": [
      "Evaluating: 100%|████████████████████████████████████████████████████████████████████████████████████████████████| 157/157 [00:01<00:00, 111.84it/s]\n"
     ]
    },
    {
     "name": "stdout",
     "output_type": "stream",
     "text": [
      "ROC AUC: 0.9977\n",
      "Accuracy: 0.9469\n",
      "F1 Score: 0.9472\n",
      "Precision: 0.9489\n",
      "Recall: 0.9483\n",
      "Epoch 52/100\n"
     ]
    },
    {
     "name": "stderr",
     "output_type": "stream",
     "text": [
      "Training: 100%|█████████████████████████████████████████████████████████████████████████████████████████████████| 1407/1407 [00:16<00:00, 87.79it/s]\n"
     ]
    },
    {
     "name": "stdout",
     "output_type": "stream",
     "text": [
      "Epoch loss 52:  118.57838469790295\n",
      "Avg loss 52:  0.08360427689853522\n"
     ]
    },
    {
     "name": "stderr",
     "output_type": "stream",
     "text": [
      "Evaluating: 100%|████████████████████████████████████████████████████████████████████████████████████████████████| 157/157 [00:01<00:00, 109.67it/s]\n"
     ]
    },
    {
     "name": "stdout",
     "output_type": "stream",
     "text": [
      "ROC AUC: 0.9982\n",
      "Accuracy: 0.9319\n",
      "F1 Score: 0.9353\n",
      "Precision: 0.9439\n",
      "Recall: 0.9372\n",
      "Epoch 53/100\n"
     ]
    },
    {
     "name": "stderr",
     "output_type": "stream",
     "text": [
      "Training: 100%|█████████████████████████████████████████████████████████████████████████████████████████████████| 1407/1407 [00:16<00:00, 87.14it/s]\n"
     ]
    },
    {
     "name": "stdout",
     "output_type": "stream",
     "text": [
      "Epoch loss 53:  114.35698395618238\n",
      "Avg loss 53:  0.08131569084434903\n"
     ]
    },
    {
     "name": "stderr",
     "output_type": "stream",
     "text": [
      "Evaluating: 100%|█████████████████████████████████████████████████████████████████████████████████████████████████| 157/157 [00:01<00:00, 85.87it/s]\n"
     ]
    },
    {
     "name": "stdout",
     "output_type": "stream",
     "text": [
      "ROC AUC: 0.9982\n",
      "Accuracy: 0.9485\n",
      "F1 Score: 0.9481\n",
      "Precision: 0.9505\n",
      "Recall: 0.9477\n",
      "Epoch 54/100\n"
     ]
    },
    {
     "name": "stderr",
     "output_type": "stream",
     "text": [
      "Training: 100%|█████████████████████████████████████████████████████████████████████████████████████████████████| 1407/1407 [00:16<00:00, 86.51it/s]\n"
     ]
    },
    {
     "name": "stdout",
     "output_type": "stream",
     "text": [
      "Epoch loss 54:  115.7552676819032\n",
      "Avg loss 54:  0.08105029933445335\n"
     ]
    },
    {
     "name": "stderr",
     "output_type": "stream",
     "text": [
      "Evaluating: 100%|█████████████████████████████████████████████████████████████████████████████████████████████████| 157/157 [00:01<00:00, 87.00it/s]\n"
     ]
    },
    {
     "name": "stdout",
     "output_type": "stream",
     "text": [
      "ROC AUC: 0.9951\n",
      "Accuracy: 0.8688\n",
      "F1 Score: 0.8690\n",
      "Precision: 0.9031\n",
      "Recall: 0.8829\n",
      "Epoch 55/100\n"
     ]
    },
    {
     "name": "stderr",
     "output_type": "stream",
     "text": [
      "Training: 100%|█████████████████████████████████████████████████████████████████████████████████████████████████| 1407/1407 [00:16<00:00, 87.59it/s]\n"
     ]
    },
    {
     "name": "stdout",
     "output_type": "stream",
     "text": [
      "Epoch loss 55:  120.65933651081286\n",
      "Avg loss 55:  0.08555893740577455\n"
     ]
    },
    {
     "name": "stderr",
     "output_type": "stream",
     "text": [
      "Evaluating: 100%|████████████████████████████████████████████████████████████████████████████████████████████████| 157/157 [00:01<00:00, 105.40it/s]\n"
     ]
    },
    {
     "name": "stdout",
     "output_type": "stream",
     "text": [
      "ROC AUC: 0.9985\n",
      "Accuracy: 0.9611\n",
      "F1 Score: 0.9609\n",
      "Precision: 0.9625\n",
      "Recall: 0.9601\n",
      "Model saved\n",
      "Epoch 56/100\n"
     ]
    },
    {
     "name": "stderr",
     "output_type": "stream",
     "text": [
      "Training: 100%|█████████████████████████████████████████████████████████████████████████████████████████████████| 1407/1407 [00:15<00:00, 89.02it/s]\n"
     ]
    },
    {
     "name": "stdout",
     "output_type": "stream",
     "text": [
      "Epoch loss 56:  108.48432900407352\n",
      "Avg loss 56:  0.07709523023769\n"
     ]
    },
    {
     "name": "stderr",
     "output_type": "stream",
     "text": [
      "Evaluating: 100%|████████████████████████████████████████████████████████████████████████████████████████████████| 157/157 [00:01<00:00, 112.41it/s]\n"
     ]
    },
    {
     "name": "stdout",
     "output_type": "stream",
     "text": [
      "ROC AUC: 0.9982\n",
      "Accuracy: 0.9527\n",
      "F1 Score: 0.9521\n",
      "Precision: 0.9561\n",
      "Recall: 0.9502\n",
      "Epoch 57/100\n"
     ]
    },
    {
     "name": "stderr",
     "output_type": "stream",
     "text": [
      "Training: 100%|█████████████████████████████████████████████████████████████████████████████████████████████████| 1407/1407 [00:16<00:00, 86.72it/s]\n"
     ]
    },
    {
     "name": "stdout",
     "output_type": "stream",
     "text": [
      "Epoch loss 57:  109.58529182395432\n",
      "Avg loss 57:  0.0779282964084143\n"
     ]
    },
    {
     "name": "stderr",
     "output_type": "stream",
     "text": [
      "Evaluating: 100%|█████████████████████████████████████████████████████████████████████████████████████████████████| 157/157 [00:01<00:00, 91.37it/s]\n"
     ]
    },
    {
     "name": "stdout",
     "output_type": "stream",
     "text": [
      "ROC AUC: 0.9986\n",
      "Accuracy: 0.9569\n",
      "F1 Score: 0.9569\n",
      "Precision: 0.9578\n",
      "Recall: 0.9572\n",
      "Epoch 58/100\n"
     ]
    },
    {
     "name": "stderr",
     "output_type": "stream",
     "text": [
      "Training: 100%|█████████████████████████████████████████████████████████████████████████████████████████████████| 1407/1407 [00:16<00:00, 87.33it/s]\n"
     ]
    },
    {
     "name": "stdout",
     "output_type": "stream",
     "text": [
      "Epoch loss 58:  115.4325805453118\n",
      "Avg loss 58:  0.08204504349722858\n"
     ]
    },
    {
     "name": "stderr",
     "output_type": "stream",
     "text": [
      "Evaluating: 100%|█████████████████████████████████████████████████████████████████████████████████████████████████| 157/157 [00:01<00:00, 82.35it/s]\n"
     ]
    },
    {
     "name": "stdout",
     "output_type": "stream",
     "text": [
      "ROC AUC: 0.9982\n",
      "Accuracy: 0.9558\n",
      "F1 Score: 0.9558\n",
      "Precision: 0.9562\n",
      "Recall: 0.9559\n",
      "Epoch 59/100\n"
     ]
    },
    {
     "name": "stderr",
     "output_type": "stream",
     "text": [
      "Training: 100%|█████████████████████████████████████████████████████████████████████████████████████████████████| 1407/1407 [00:15<00:00, 88.03it/s]\n"
     ]
    },
    {
     "name": "stdout",
     "output_type": "stream",
     "text": [
      "Epoch loss 59:  110.38563633454032\n",
      "Avg loss 59:  0.07826198467422583\n"
     ]
    },
    {
     "name": "stderr",
     "output_type": "stream",
     "text": [
      "Evaluating: 100%|████████████████████████████████████████████████████████████████████████████████████████████████| 157/157 [00:01<00:00, 100.79it/s]\n"
     ]
    },
    {
     "name": "stdout",
     "output_type": "stream",
     "text": [
      "ROC AUC: 0.9974\n",
      "Accuracy: 0.9265\n",
      "F1 Score: 0.9265\n",
      "Precision: 0.9312\n",
      "Recall: 0.9278\n",
      "Epoch 60/100\n"
     ]
    },
    {
     "name": "stderr",
     "output_type": "stream",
     "text": [
      "Training: 100%|█████████████████████████████████████████████████████████████████████████████████████████████████| 1407/1407 [00:15<00:00, 88.64it/s]\n"
     ]
    },
    {
     "name": "stdout",
     "output_type": "stream",
     "text": [
      "Epoch loss 60:  110.73264031251892\n",
      "Avg loss 60:  0.07851065947523996\n"
     ]
    },
    {
     "name": "stderr",
     "output_type": "stream",
     "text": [
      "Evaluating: 100%|████████████████████████████████████████████████████████████████████████████████████████████████| 157/157 [00:01<00:00, 110.28it/s]\n"
     ]
    },
    {
     "name": "stdout",
     "output_type": "stream",
     "text": [
      "ROC AUC: 0.9986\n",
      "Accuracy: 0.9521\n",
      "F1 Score: 0.9523\n",
      "Precision: 0.9548\n",
      "Recall: 0.9529\n",
      "Epoch 61/100\n"
     ]
    },
    {
     "name": "stderr",
     "output_type": "stream",
     "text": [
      "Training: 100%|█████████████████████████████████████████████████████████████████████████████████████████████████| 1407/1407 [00:15<00:00, 90.11it/s]\n"
     ]
    },
    {
     "name": "stdout",
     "output_type": "stream",
     "text": [
      "Epoch loss 61:  81.60849874478299\n",
      "Avg loss 61:  0.05803256920281\n"
     ]
    },
    {
     "name": "stderr",
     "output_type": "stream",
     "text": [
      "Evaluating: 100%|████████████████████████████████████████████████████████████████████████████████████████████████| 157/157 [00:01<00:00, 107.85it/s]\n"
     ]
    },
    {
     "name": "stdout",
     "output_type": "stream",
     "text": [
      "ROC AUC: 0.9991\n",
      "Accuracy: 0.9655\n",
      "F1 Score: 0.9651\n",
      "Precision: 0.9669\n",
      "Recall: 0.9642\n",
      "Model saved\n",
      "Epoch 62/100\n"
     ]
    },
    {
     "name": "stderr",
     "output_type": "stream",
     "text": [
      "Training: 100%|█████████████████████████████████████████████████████████████████████████████████████████████████| 1407/1407 [00:15<00:00, 88.87it/s]\n"
     ]
    },
    {
     "name": "stdout",
     "output_type": "stream",
     "text": [
      "Epoch loss 62:  75.83809946957626\n",
      "Avg loss 62:  0.05379079312031548\n"
     ]
    },
    {
     "name": "stderr",
     "output_type": "stream",
     "text": [
      "Evaluating: 100%|█████████████████████████████████████████████████████████████████████████████████████████████████| 157/157 [00:01<00:00, 86.07it/s]\n"
     ]
    },
    {
     "name": "stdout",
     "output_type": "stream",
     "text": [
      "ROC AUC: 0.9990\n",
      "Accuracy: 0.9674\n",
      "F1 Score: 0.9674\n",
      "Precision: 0.9676\n",
      "Recall: 0.9677\n",
      "Model saved\n",
      "Epoch 63/100\n"
     ]
    },
    {
     "name": "stderr",
     "output_type": "stream",
     "text": [
      "Training: 100%|█████████████████████████████████████████████████████████████████████████████████████████████████| 1407/1407 [00:16<00:00, 87.57it/s]\n"
     ]
    },
    {
     "name": "stdout",
     "output_type": "stream",
     "text": [
      "Epoch loss 63:  74.93431290489389\n",
      "Avg loss 63:  0.0532721610422915\n"
     ]
    },
    {
     "name": "stderr",
     "output_type": "stream",
     "text": [
      "Evaluating: 100%|█████████████████████████████████████████████████████████████████████████████████████████████████| 157/157 [00:01<00:00, 87.65it/s]\n"
     ]
    },
    {
     "name": "stdout",
     "output_type": "stream",
     "text": [
      "ROC AUC: 0.9987\n",
      "Accuracy: 0.9553\n",
      "F1 Score: 0.9553\n",
      "Precision: 0.9582\n",
      "Recall: 0.9543\n",
      "Epoch 64/100\n"
     ]
    },
    {
     "name": "stderr",
     "output_type": "stream",
     "text": [
      "Training: 100%|█████████████████████████████████████████████████████████████████████████████████████████████████| 1407/1407 [00:15<00:00, 89.57it/s]\n"
     ]
    },
    {
     "name": "stdout",
     "output_type": "stream",
     "text": [
      "Epoch loss 64:  78.68814134801505\n",
      "Avg loss 64:  0.05595779715022814\n"
     ]
    },
    {
     "name": "stderr",
     "output_type": "stream",
     "text": [
      "Evaluating: 100%|████████████████████████████████████████████████████████████████████████████████████████████████| 157/157 [00:01<00:00, 108.35it/s]\n"
     ]
    },
    {
     "name": "stdout",
     "output_type": "stream",
     "text": [
      "ROC AUC: 0.9989\n",
      "Accuracy: 0.9619\n",
      "F1 Score: 0.9611\n",
      "Precision: 0.9626\n",
      "Recall: 0.9609\n",
      "Epoch 65/100\n"
     ]
    },
    {
     "name": "stderr",
     "output_type": "stream",
     "text": [
      "Training: 100%|█████████████████████████████████████████████████████████████████████████████████████████████████| 1407/1407 [00:16<00:00, 86.47it/s]\n"
     ]
    },
    {
     "name": "stdout",
     "output_type": "stream",
     "text": [
      "Epoch loss 65:  71.39856592779688\n",
      "Avg loss 65:  0.050163360850319576\n"
     ]
    },
    {
     "name": "stderr",
     "output_type": "stream",
     "text": [
      "Evaluating: 100%|████████████████████████████████████████████████████████████████████████████████████████████████| 157/157 [00:01<00:00, 108.40it/s]\n"
     ]
    },
    {
     "name": "stdout",
     "output_type": "stream",
     "text": [
      "ROC AUC: 0.9990\n",
      "Accuracy: 0.9559\n",
      "F1 Score: 0.9550\n",
      "Precision: 0.9592\n",
      "Recall: 0.9530\n",
      "Epoch 66/100\n"
     ]
    },
    {
     "name": "stderr",
     "output_type": "stream",
     "text": [
      "Training: 100%|█████████████████████████████████████████████████████████████████████████████████████████████████| 1407/1407 [00:16<00:00, 87.92it/s]\n"
     ]
    },
    {
     "name": "stdout",
     "output_type": "stream",
     "text": [
      "Epoch loss 66:  78.66629294809536\n",
      "Avg loss 66:  0.055828593966647036\n"
     ]
    },
    {
     "name": "stderr",
     "output_type": "stream",
     "text": [
      "Evaluating: 100%|█████████████████████████████████████████████████████████████████████████████████████████████████| 157/157 [00:01<00:00, 98.79it/s]\n"
     ]
    },
    {
     "name": "stdout",
     "output_type": "stream",
     "text": [
      "ROC AUC: 0.9988\n",
      "Accuracy: 0.9637\n",
      "F1 Score: 0.9636\n",
      "Precision: 0.9648\n",
      "Recall: 0.9628\n",
      "Epoch 67/100\n"
     ]
    },
    {
     "name": "stderr",
     "output_type": "stream",
     "text": [
      "Training: 100%|█████████████████████████████████████████████████████████████████████████████████████████████████| 1407/1407 [00:15<00:00, 88.22it/s]\n"
     ]
    },
    {
     "name": "stdout",
     "output_type": "stream",
     "text": [
      "Epoch loss 67:  72.64360842431779\n",
      "Avg loss 67:  0.051334611709213544\n"
     ]
    },
    {
     "name": "stderr",
     "output_type": "stream",
     "text": [
      "Evaluating: 100%|█████████████████████████████████████████████████████████████████████████████████████████████████| 157/157 [00:01<00:00, 91.85it/s]\n"
     ]
    },
    {
     "name": "stdout",
     "output_type": "stream",
     "text": [
      "ROC AUC: 0.9989\n",
      "Accuracy: 0.9630\n",
      "F1 Score: 0.9622\n",
      "Precision: 0.9638\n",
      "Recall: 0.9616\n",
      "Epoch 68/100\n"
     ]
    },
    {
     "name": "stderr",
     "output_type": "stream",
     "text": [
      "Training: 100%|█████████████████████████████████████████████████████████████████████████████████████████████████| 1407/1407 [00:15<00:00, 88.50it/s]\n"
     ]
    },
    {
     "name": "stdout",
     "output_type": "stream",
     "text": [
      "Epoch loss 68:  76.05617481967784\n",
      "Avg loss 68:  0.054086548753459675\n"
     ]
    },
    {
     "name": "stderr",
     "output_type": "stream",
     "text": [
      "Evaluating: 100%|█████████████████████████████████████████████████████████████████████████████████████████████████| 157/157 [00:01<00:00, 90.80it/s]\n"
     ]
    },
    {
     "name": "stdout",
     "output_type": "stream",
     "text": [
      "ROC AUC: 0.9987\n",
      "Accuracy: 0.9629\n",
      "F1 Score: 0.9621\n",
      "Precision: 0.9631\n",
      "Recall: 0.9618\n",
      "Epoch 69/100\n"
     ]
    },
    {
     "name": "stderr",
     "output_type": "stream",
     "text": [
      "Training: 100%|█████████████████████████████████████████████████████████████████████████████████████████████████| 1407/1407 [00:15<00:00, 88.65it/s]\n"
     ]
    },
    {
     "name": "stdout",
     "output_type": "stream",
     "text": [
      "Epoch loss 69:  71.26492062147008\n",
      "Avg loss 69:  0.050294440713256124\n"
     ]
    },
    {
     "name": "stderr",
     "output_type": "stream",
     "text": [
      "Evaluating: 100%|████████████████████████████████████████████████████████████████████████████████████████████████| 157/157 [00:01<00:00, 108.31it/s]\n"
     ]
    },
    {
     "name": "stdout",
     "output_type": "stream",
     "text": [
      "ROC AUC: 0.9989\n",
      "Accuracy: 0.9671\n",
      "F1 Score: 0.9672\n",
      "Precision: 0.9672\n",
      "Recall: 0.9679\n",
      "Epoch 70/100\n"
     ]
    },
    {
     "name": "stderr",
     "output_type": "stream",
     "text": [
      "Training: 100%|█████████████████████████████████████████████████████████████████████████████████████████████████| 1407/1407 [00:15<00:00, 89.14it/s]\n"
     ]
    },
    {
     "name": "stdout",
     "output_type": "stream",
     "text": [
      "Epoch loss 70:  58.57222293497762\n",
      "Avg loss 70:  0.04148696584773484\n"
     ]
    },
    {
     "name": "stderr",
     "output_type": "stream",
     "text": [
      "Evaluating: 100%|████████████████████████████████████████████████████████████████████████████████████████████████| 157/157 [00:01<00:00, 109.69it/s]\n"
     ]
    },
    {
     "name": "stdout",
     "output_type": "stream",
     "text": [
      "ROC AUC: 0.9993\n",
      "Accuracy: 0.9687\n",
      "F1 Score: 0.9689\n",
      "Precision: 0.9688\n",
      "Recall: 0.9697\n",
      "Model saved\n",
      "Epoch 71/100\n"
     ]
    },
    {
     "name": "stderr",
     "output_type": "stream",
     "text": [
      "Training: 100%|█████████████████████████████████████████████████████████████████████████████████████████████████| 1407/1407 [00:16<00:00, 87.36it/s]\n"
     ]
    },
    {
     "name": "stdout",
     "output_type": "stream",
     "text": [
      "Epoch loss 71:  61.17422569717746\n",
      "Avg loss 71:  0.04199135301502126\n"
     ]
    },
    {
     "name": "stderr",
     "output_type": "stream",
     "text": [
      "Evaluating: 100%|█████████████████████████████████████████████████████████████████████████████████████████████████| 157/157 [00:01<00:00, 87.00it/s]\n"
     ]
    },
    {
     "name": "stdout",
     "output_type": "stream",
     "text": [
      "ROC AUC: 0.9991\n",
      "Accuracy: 0.9706\n",
      "F1 Score: 0.9702\n",
      "Precision: 0.9715\n",
      "Recall: 0.9695\n",
      "Model saved\n",
      "Epoch 72/100\n"
     ]
    },
    {
     "name": "stderr",
     "output_type": "stream",
     "text": [
      "Training: 100%|█████████████████████████████████████████████████████████████████████████████████████████████████| 1407/1407 [00:15<00:00, 88.08it/s]\n"
     ]
    },
    {
     "name": "stdout",
     "output_type": "stream",
     "text": [
      "Epoch loss 72:  61.850066478014924\n",
      "Avg loss 72:  0.041454305030202525\n"
     ]
    },
    {
     "name": "stderr",
     "output_type": "stream",
     "text": [
      "Evaluating: 100%|█████████████████████████████████████████████████████████████████████████████████████████████████| 157/157 [00:01<00:00, 84.29it/s]\n"
     ]
    },
    {
     "name": "stdout",
     "output_type": "stream",
     "text": [
      "ROC AUC: 0.9992\n",
      "Accuracy: 0.9713\n",
      "F1 Score: 0.9709\n",
      "Precision: 0.9714\n",
      "Recall: 0.9711\n",
      "Model saved\n",
      "Epoch 73/100\n"
     ]
    },
    {
     "name": "stderr",
     "output_type": "stream",
     "text": [
      "Training: 100%|█████████████████████████████████████████████████████████████████████████████████████████████████| 1407/1407 [00:15<00:00, 88.04it/s]\n"
     ]
    },
    {
     "name": "stdout",
     "output_type": "stream",
     "text": [
      "Epoch loss 73:  57.60494111376465\n",
      "Avg loss 73:  0.04080728652182397\n"
     ]
    },
    {
     "name": "stderr",
     "output_type": "stream",
     "text": [
      "Evaluating: 100%|████████████████████████████████████████████████████████████████████████████████████████████████| 157/157 [00:01<00:00, 111.32it/s]\n"
     ]
    },
    {
     "name": "stdout",
     "output_type": "stream",
     "text": [
      "ROC AUC: 0.9993\n",
      "Accuracy: 0.9739\n",
      "F1 Score: 0.9734\n",
      "Precision: 0.9744\n",
      "Recall: 0.9728\n",
      "Model saved\n",
      "Epoch 74/100\n"
     ]
    },
    {
     "name": "stderr",
     "output_type": "stream",
     "text": [
      "Training: 100%|█████████████████████████████████████████████████████████████████████████████████████████████████| 1407/1407 [00:15<00:00, 88.64it/s]\n"
     ]
    },
    {
     "name": "stdout",
     "output_type": "stream",
     "text": [
      "Epoch loss 74:  53.7052134621772\n",
      "Avg loss 74:  0.03819132446532417\n"
     ]
    },
    {
     "name": "stderr",
     "output_type": "stream",
     "text": [
      "Evaluating: 100%|████████████████████████████████████████████████████████████████████████████████████████████████| 157/157 [00:01<00:00, 110.29it/s]\n"
     ]
    },
    {
     "name": "stdout",
     "output_type": "stream",
     "text": [
      "ROC AUC: 0.9991\n",
      "Accuracy: 0.9719\n",
      "F1 Score: 0.9720\n",
      "Precision: 0.9721\n",
      "Recall: 0.9723\n",
      "Epoch 75/100\n"
     ]
    },
    {
     "name": "stderr",
     "output_type": "stream",
     "text": [
      "Training: 100%|█████████████████████████████████████████████████████████████████████████████████████████████████| 1407/1407 [00:16<00:00, 87.94it/s]\n"
     ]
    },
    {
     "name": "stdout",
     "output_type": "stream",
     "text": [
      "Epoch loss 75:  55.02556622491102\n",
      "Avg loss 75:  0.03908178030407962\n"
     ]
    },
    {
     "name": "stderr",
     "output_type": "stream",
     "text": [
      "Evaluating: 100%|█████████████████████████████████████████████████████████████████████████████████████████████████| 157/157 [00:01<00:00, 91.04it/s]\n"
     ]
    },
    {
     "name": "stdout",
     "output_type": "stream",
     "text": [
      "ROC AUC: 0.9992\n",
      "Accuracy: 0.9739\n",
      "F1 Score: 0.9734\n",
      "Precision: 0.9739\n",
      "Recall: 0.9735\n",
      "Epoch 76/100\n"
     ]
    },
    {
     "name": "stderr",
     "output_type": "stream",
     "text": [
      "Training: 100%|█████████████████████████████████████████████████████████████████████████████████████████████████| 1407/1407 [00:16<00:00, 85.92it/s]\n"
     ]
    },
    {
     "name": "stdout",
     "output_type": "stream",
     "text": [
      "Epoch loss 76:  52.70169990134309\n",
      "Avg loss 76:  0.03747710308634474\n"
     ]
    },
    {
     "name": "stderr",
     "output_type": "stream",
     "text": [
      "Evaluating: 100%|█████████████████████████████████████████████████████████████████████████████████████████████████| 157/157 [00:01<00:00, 83.34it/s]\n"
     ]
    },
    {
     "name": "stdout",
     "output_type": "stream",
     "text": [
      "ROC AUC: 0.9991\n",
      "Accuracy: 0.9686\n",
      "F1 Score: 0.9684\n",
      "Precision: 0.9686\n",
      "Recall: 0.9686\n",
      "Epoch 77/100\n"
     ]
    },
    {
     "name": "stderr",
     "output_type": "stream",
     "text": [
      "Training: 100%|█████████████████████████████████████████████████████████████████████████████████████████████████| 1407/1407 [00:15<00:00, 88.12it/s]\n"
     ]
    },
    {
     "name": "stdout",
     "output_type": "stream",
     "text": [
      "Epoch loss 77:  54.492650361105916\n",
      "Avg loss 77:  0.038635978345039415\n"
     ]
    },
    {
     "name": "stderr",
     "output_type": "stream",
     "text": [
      "Evaluating: 100%|████████████████████████████████████████████████████████████████████████████████████████████████| 157/157 [00:01<00:00, 105.73it/s]\n"
     ]
    },
    {
     "name": "stdout",
     "output_type": "stream",
     "text": [
      "ROC AUC: 0.9992\n",
      "Accuracy: 0.9708\n",
      "F1 Score: 0.9702\n",
      "Precision: 0.9710\n",
      "Recall: 0.9699\n",
      "Epoch 78/100\n"
     ]
    },
    {
     "name": "stderr",
     "output_type": "stream",
     "text": [
      "Training: 100%|█████████████████████████████████████████████████████████████████████████████████████████████████| 1407/1407 [00:15<00:00, 89.28it/s]\n"
     ]
    },
    {
     "name": "stdout",
     "output_type": "stream",
     "text": [
      "Epoch loss 78:  52.47088567409082\n",
      "Avg loss 78:  0.036353043597309134\n"
     ]
    },
    {
     "name": "stderr",
     "output_type": "stream",
     "text": [
      "Evaluating: 100%|████████████████████████████████████████████████████████████████████████████████████████████████| 157/157 [00:01<00:00, 116.59it/s]\n"
     ]
    },
    {
     "name": "stdout",
     "output_type": "stream",
     "text": [
      "ROC AUC: 0.9991\n",
      "Accuracy: 0.9633\n",
      "F1 Score: 0.9635\n",
      "Precision: 0.9639\n",
      "Recall: 0.9645\n",
      "Epoch 79/100\n"
     ]
    },
    {
     "name": "stderr",
     "output_type": "stream",
     "text": [
      "Training: 100%|█████████████████████████████████████████████████████████████████████████████████████████████████| 1407/1407 [00:16<00:00, 86.37it/s]\n"
     ]
    },
    {
     "name": "stdout",
     "output_type": "stream",
     "text": [
      "Epoch loss 79:  54.1589840920351\n",
      "Avg loss 79:  0.038491212633101506\n"
     ]
    },
    {
     "name": "stderr",
     "output_type": "stream",
     "text": [
      "Evaluating: 100%|█████████████████████████████████████████████████████████████████████████████████████████████████| 157/157 [00:01<00:00, 98.02it/s]\n"
     ]
    },
    {
     "name": "stdout",
     "output_type": "stream",
     "text": [
      "ROC AUC: 0.9990\n",
      "Accuracy: 0.9689\n",
      "F1 Score: 0.9687\n",
      "Precision: 0.9699\n",
      "Recall: 0.9680\n",
      "Epoch 80/100\n"
     ]
    },
    {
     "name": "stderr",
     "output_type": "stream",
     "text": [
      "Training: 100%|█████████████████████████████████████████████████████████████████████████████████████████████████| 1407/1407 [00:16<00:00, 87.24it/s]\n"
     ]
    },
    {
     "name": "stdout",
     "output_type": "stream",
     "text": [
      "Epoch loss 80:  51.10015857206599\n",
      "Avg loss 80:  0.036296664359352006\n"
     ]
    },
    {
     "name": "stderr",
     "output_type": "stream",
     "text": [
      "Evaluating: 100%|█████████████████████████████████████████████████████████████████████████████████████████████████| 157/157 [00:01<00:00, 86.92it/s]\n"
     ]
    },
    {
     "name": "stdout",
     "output_type": "stream",
     "text": [
      "ROC AUC: 0.9991\n",
      "Accuracy: 0.9696\n",
      "F1 Score: 0.9692\n",
      "Precision: 0.9697\n",
      "Recall: 0.9695\n",
      "Epoch 81/100\n"
     ]
    },
    {
     "name": "stderr",
     "output_type": "stream",
     "text": [
      "Training: 100%|█████████████████████████████████████████████████████████████████████████████████████████████████| 1407/1407 [00:15<00:00, 90.37it/s]\n"
     ]
    },
    {
     "name": "stdout",
     "output_type": "stream",
     "text": [
      "Epoch loss 81:  54.959812068671454\n",
      "Avg loss 81:  0.038544603595384704\n"
     ]
    },
    {
     "name": "stderr",
     "output_type": "stream",
     "text": [
      "Evaluating: 100%|█████████████████████████████████████████████████████████████████████████████████████████████████| 157/157 [00:01<00:00, 93.67it/s]\n"
     ]
    },
    {
     "name": "stdout",
     "output_type": "stream",
     "text": [
      "ROC AUC: 0.9991\n",
      "Accuracy: 0.9684\n",
      "F1 Score: 0.9685\n",
      "Precision: 0.9690\n",
      "Recall: 0.9684\n",
      "Epoch 82/100\n"
     ]
    },
    {
     "name": "stderr",
     "output_type": "stream",
     "text": [
      "Training: 100%|█████████████████████████████████████████████████████████████████████████████████████████████████| 1407/1407 [00:15<00:00, 88.31it/s]\n"
     ]
    },
    {
     "name": "stdout",
     "output_type": "stream",
     "text": [
      "Epoch loss 82:  50.85502450101194\n",
      "Avg loss 82:  0.036155960096048066\n"
     ]
    },
    {
     "name": "stderr",
     "output_type": "stream",
     "text": [
      "Evaluating: 100%|████████████████████████████████████████████████████████████████████████████████████████████████| 157/157 [00:01<00:00, 116.42it/s]\n"
     ]
    },
    {
     "name": "stdout",
     "output_type": "stream",
     "text": [
      "ROC AUC: 0.9991\n",
      "Accuracy: 0.9684\n",
      "F1 Score: 0.9679\n",
      "Precision: 0.9684\n",
      "Recall: 0.9681\n",
      "Epoch 83/100\n"
     ]
    },
    {
     "name": "stderr",
     "output_type": "stream",
     "text": [
      "Training: 100%|█████████████████████████████████████████████████████████████████████████████████████████████████| 1407/1407 [00:15<00:00, 88.04it/s]\n"
     ]
    },
    {
     "name": "stdout",
     "output_type": "stream",
     "text": [
      "Epoch loss 83:  51.672795723083254\n",
      "Avg loss 83:  0.03674651634246429\n"
     ]
    },
    {
     "name": "stderr",
     "output_type": "stream",
     "text": [
      "Evaluating: 100%|████████████████████████████████████████████████████████████████████████████████████████████████| 157/157 [00:01<00:00, 107.98it/s]\n"
     ]
    },
    {
     "name": "stdout",
     "output_type": "stream",
     "text": [
      "ROC AUC: 0.9992\n",
      "Accuracy: 0.9731\n",
      "F1 Score: 0.9729\n",
      "Precision: 0.9738\n",
      "Recall: 0.9723\n",
      "Epoch 84/100\n"
     ]
    },
    {
     "name": "stderr",
     "output_type": "stream",
     "text": [
      "Training: 100%|█████████████████████████████████████████████████████████████████████████████████████████████████| 1407/1407 [00:16<00:00, 87.16it/s]\n"
     ]
    },
    {
     "name": "stdout",
     "output_type": "stream",
     "text": [
      "Epoch loss 84:  50.24013316589662\n",
      "Avg loss 84:  0.03572558474428416\n"
     ]
    },
    {
     "name": "stderr",
     "output_type": "stream",
     "text": [
      "Evaluating: 100%|█████████████████████████████████████████████████████████████████████████████████████████████████| 157/157 [00:01<00:00, 85.26it/s]\n"
     ]
    },
    {
     "name": "stdout",
     "output_type": "stream",
     "text": [
      "ROC AUC: 0.9992\n",
      "Accuracy: 0.9686\n",
      "F1 Score: 0.9690\n",
      "Precision: 0.9693\n",
      "Recall: 0.9692\n",
      "Epoch 85/100\n"
     ]
    },
    {
     "name": "stderr",
     "output_type": "stream",
     "text": [
      "Training: 100%|█████████████████████████████████████████████████████████████████████████████████████████████████| 1407/1407 [00:16<00:00, 87.75it/s]\n"
     ]
    },
    {
     "name": "stdout",
     "output_type": "stream",
     "text": [
      "Epoch loss 85:  49.790058724873234\n",
      "Avg loss 85:  0.03537781466312895\n"
     ]
    },
    {
     "name": "stderr",
     "output_type": "stream",
     "text": [
      "Evaluating: 100%|█████████████████████████████████████████████████████████████████████████████████████████████████| 157/157 [00:01<00:00, 86.14it/s]\n"
     ]
    },
    {
     "name": "stdout",
     "output_type": "stream",
     "text": [
      "ROC AUC: 0.9992\n",
      "Accuracy: 0.9708\n",
      "F1 Score: 0.9710\n",
      "Precision: 0.9710\n",
      "Recall: 0.9714\n",
      "Epoch 86/100\n"
     ]
    },
    {
     "name": "stderr",
     "output_type": "stream",
     "text": [
      "Training: 100%|█████████████████████████████████████████████████████████████████████████████████████████████████| 1407/1407 [00:15<00:00, 88.99it/s]\n"
     ]
    },
    {
     "name": "stdout",
     "output_type": "stream",
     "text": [
      "Epoch loss 86:  50.317714059201535\n",
      "Avg loss 86:  0.03530085493836843\n"
     ]
    },
    {
     "name": "stderr",
     "output_type": "stream",
     "text": [
      "Evaluating: 100%|████████████████████████████████████████████████████████████████████████████████████████████████| 157/157 [00:01<00:00, 112.79it/s]\n"
     ]
    },
    {
     "name": "stdout",
     "output_type": "stream",
     "text": [
      "ROC AUC: 0.9991\n",
      "Accuracy: 0.9685\n",
      "F1 Score: 0.9688\n",
      "Precision: 0.9695\n",
      "Recall: 0.9687\n",
      "Epoch 87/100\n"
     ]
    },
    {
     "name": "stderr",
     "output_type": "stream",
     "text": [
      "Training: 100%|█████████████████████████████████████████████████████████████████████████████████████████████████| 1407/1407 [00:15<00:00, 88.42it/s]\n"
     ]
    },
    {
     "name": "stdout",
     "output_type": "stream",
     "text": [
      "Epoch loss 87:  49.604376485789544\n",
      "Avg loss 87:  0.035275709593108315\n"
     ]
    },
    {
     "name": "stderr",
     "output_type": "stream",
     "text": [
      "Evaluating: 100%|████████████████████████████████████████████████████████████████████████████████████████████████| 157/157 [00:01<00:00, 111.56it/s]\n"
     ]
    },
    {
     "name": "stdout",
     "output_type": "stream",
     "text": [
      "ROC AUC: 0.9992\n",
      "Accuracy: 0.9722\n",
      "F1 Score: 0.9724\n",
      "Precision: 0.9724\n",
      "Recall: 0.9727\n",
      "Epoch 88/100\n"
     ]
    },
    {
     "name": "stderr",
     "output_type": "stream",
     "text": [
      "Training: 100%|█████████████████████████████████████████████████████████████████████████████████████████████████| 1407/1407 [00:15<00:00, 88.22it/s]\n"
     ]
    },
    {
     "name": "stdout",
     "output_type": "stream",
     "text": [
      "Epoch loss 88:  49.232472887131735\n",
      "Avg loss 88:  0.034989866399298075\n"
     ]
    },
    {
     "name": "stderr",
     "output_type": "stream",
     "text": [
      "Evaluating: 100%|█████████████████████████████████████████████████████████████████████████████████████████████████| 157/157 [00:01<00:00, 96.98it/s]\n"
     ]
    },
    {
     "name": "stdout",
     "output_type": "stream",
     "text": [
      "ROC AUC: 0.9990\n",
      "Accuracy: 0.9716\n",
      "F1 Score: 0.9713\n",
      "Precision: 0.9724\n",
      "Recall: 0.9705\n",
      "Epoch 89/100\n"
     ]
    },
    {
     "name": "stderr",
     "output_type": "stream",
     "text": [
      "Training: 100%|█████████████████████████████████████████████████████████████████████████████████████████████████| 1407/1407 [00:16<00:00, 87.68it/s]\n"
     ]
    },
    {
     "name": "stdout",
     "output_type": "stream",
     "text": [
      "Epoch loss 89:  51.55240713010426\n",
      "Avg loss 89:  0.03650555351025165\n"
     ]
    },
    {
     "name": "stderr",
     "output_type": "stream",
     "text": [
      "Evaluating: 100%|█████████████████████████████████████████████████████████████████████████████████████████████████| 157/157 [00:01<00:00, 87.52it/s]\n"
     ]
    },
    {
     "name": "stdout",
     "output_type": "stream",
     "text": [
      "ROC AUC: 0.9990\n",
      "Accuracy: 0.9624\n",
      "F1 Score: 0.9628\n",
      "Precision: 0.9631\n",
      "Recall: 0.9644\n",
      "Epoch 90/100\n"
     ]
    },
    {
     "name": "stderr",
     "output_type": "stream",
     "text": [
      "Training: 100%|█████████████████████████████████████████████████████████████████████████████████████████████████| 1407/1407 [00:16<00:00, 87.29it/s]\n"
     ]
    },
    {
     "name": "stdout",
     "output_type": "stream",
     "text": [
      "Epoch loss 90:  47.81338030527695\n",
      "Avg loss 90:  0.03400165351353069\n"
     ]
    },
    {
     "name": "stderr",
     "output_type": "stream",
     "text": [
      "Evaluating: 100%|█████████████████████████████████████████████████████████████████████████████████████████████████| 157/157 [00:01<00:00, 96.17it/s]\n"
     ]
    },
    {
     "name": "stdout",
     "output_type": "stream",
     "text": [
      "ROC AUC: 0.9994\n",
      "Accuracy: 0.9737\n",
      "F1 Score: 0.9737\n",
      "Precision: 0.9735\n",
      "Recall: 0.9746\n",
      "Epoch 91/100\n"
     ]
    },
    {
     "name": "stderr",
     "output_type": "stream",
     "text": [
      "Training: 100%|█████████████████████████████████████████████████████████████████████████████████████████████████| 1407/1407 [00:16<00:00, 86.12it/s]\n"
     ]
    },
    {
     "name": "stdout",
     "output_type": "stream",
     "text": [
      "Epoch loss 91:  48.412488978676265\n",
      "Avg loss 91:  0.03416763990312365\n"
     ]
    },
    {
     "name": "stderr",
     "output_type": "stream",
     "text": [
      "Evaluating: 100%|████████████████████████████████████████████████████████████████████████████████████████████████| 157/157 [00:01<00:00, 108.73it/s]\n"
     ]
    },
    {
     "name": "stdout",
     "output_type": "stream",
     "text": [
      "ROC AUC: 0.9988\n",
      "Accuracy: 0.9639\n",
      "F1 Score: 0.9636\n",
      "Precision: 0.9648\n",
      "Recall: 0.9632\n",
      "Epoch 92/100\n"
     ]
    },
    {
     "name": "stderr",
     "output_type": "stream",
     "text": [
      "Training: 100%|█████████████████████████████████████████████████████████████████████████████████████████████████| 1407/1407 [00:16<00:00, 87.73it/s]\n"
     ]
    },
    {
     "name": "stdout",
     "output_type": "stream",
     "text": [
      "Epoch loss 92:  48.05523507957696\n",
      "Avg loss 92:  0.03415436471002637\n"
     ]
    },
    {
     "name": "stderr",
     "output_type": "stream",
     "text": [
      "Evaluating: 100%|████████████████████████████████████████████████████████████████████████████████████████████████| 157/157 [00:01<00:00, 103.62it/s]\n"
     ]
    },
    {
     "name": "stdout",
     "output_type": "stream",
     "text": [
      "ROC AUC: 0.9990\n",
      "Accuracy: 0.9611\n",
      "F1 Score: 0.9613\n",
      "Precision: 0.9617\n",
      "Recall: 0.9622\n",
      "Epoch 93/100\n"
     ]
    },
    {
     "name": "stderr",
     "output_type": "stream",
     "text": [
      "Training: 100%|█████████████████████████████████████████████████████████████████████████████████████████████████| 1407/1407 [00:16<00:00, 86.54it/s]\n"
     ]
    },
    {
     "name": "stdout",
     "output_type": "stream",
     "text": [
      "Epoch loss 93:  49.02229220137815\n",
      "Avg loss 93:  0.034839822026985844\n"
     ]
    },
    {
     "name": "stderr",
     "output_type": "stream",
     "text": [
      "Evaluating: 100%|█████████████████████████████████████████████████████████████████████████████████████████████████| 157/157 [00:01<00:00, 87.05it/s]\n"
     ]
    },
    {
     "name": "stdout",
     "output_type": "stream",
     "text": [
      "ROC AUC: 0.9990\n",
      "Accuracy: 0.9680\n",
      "F1 Score: 0.9673\n",
      "Precision: 0.9687\n",
      "Recall: 0.9669\n",
      "Epoch 94/100\n"
     ]
    },
    {
     "name": "stderr",
     "output_type": "stream",
     "text": [
      "Training: 100%|█████████████████████████████████████████████████████████████████████████████████████████████████| 1407/1407 [00:15<00:00, 88.47it/s]\n"
     ]
    },
    {
     "name": "stdout",
     "output_type": "stream",
     "text": [
      "Epoch loss 94:  47.26984575598908\n",
      "Avg loss 94:  0.03360348330492802\n"
     ]
    },
    {
     "name": "stderr",
     "output_type": "stream",
     "text": [
      "Evaluating: 100%|█████████████████████████████████████████████████████████████████████████████████████████████████| 157/157 [00:01<00:00, 94.63it/s]\n"
     ]
    },
    {
     "name": "stdout",
     "output_type": "stream",
     "text": [
      "ROC AUC: 0.9987\n",
      "Accuracy: 0.9559\n",
      "F1 Score: 0.9547\n",
      "Precision: 0.9565\n",
      "Recall: 0.9547\n",
      "Epoch 95/100\n"
     ]
    },
    {
     "name": "stderr",
     "output_type": "stream",
     "text": [
      "Training: 100%|█████████████████████████████████████████████████████████████████████████████████████████████████| 1407/1407 [00:16<00:00, 87.75it/s]\n"
     ]
    },
    {
     "name": "stdout",
     "output_type": "stream",
     "text": [
      "Epoch loss 95:  46.07830790797345\n",
      "Avg loss 95:  0.03276825250440829\n"
     ]
    },
    {
     "name": "stderr",
     "output_type": "stream",
     "text": [
      "Evaluating: 100%|████████████████████████████████████████████████████████████████████████████████████████████████| 157/157 [00:01<00:00, 109.76it/s]\n"
     ]
    },
    {
     "name": "stdout",
     "output_type": "stream",
     "text": [
      "ROC AUC: 0.9991\n",
      "Accuracy: 0.9704\n",
      "F1 Score: 0.9703\n",
      "Precision: 0.9708\n",
      "Recall: 0.9703\n",
      "Epoch 96/100\n"
     ]
    },
    {
     "name": "stderr",
     "output_type": "stream",
     "text": [
      "Training: 100%|█████████████████████████████████████████████████████████████████████████████████████████████████| 1407/1407 [00:15<00:00, 88.79it/s]\n"
     ]
    },
    {
     "name": "stdout",
     "output_type": "stream",
     "text": [
      "Epoch loss 96:  46.99693695557653\n",
      "Avg loss 96:  0.0334211398841042\n"
     ]
    },
    {
     "name": "stderr",
     "output_type": "stream",
     "text": [
      "Evaluating: 100%|████████████████████████████████████████████████████████████████████████████████████████████████| 157/157 [00:01<00:00, 105.46it/s]\n"
     ]
    },
    {
     "name": "stdout",
     "output_type": "stream",
     "text": [
      "ROC AUC: 0.9990\n",
      "Accuracy: 0.9653\n",
      "F1 Score: 0.9658\n",
      "Precision: 0.9667\n",
      "Recall: 0.9659\n",
      "Epoch 97/100\n"
     ]
    },
    {
     "name": "stderr",
     "output_type": "stream",
     "text": [
      "Training: 100%|█████████████████████████████████████████████████████████████████████████████████████████████████| 1407/1407 [00:16<00:00, 87.84it/s]\n"
     ]
    },
    {
     "name": "stdout",
     "output_type": "stream",
     "text": [
      "Epoch loss 97:  47.53072099444398\n",
      "Avg loss 97:  0.033709984606094985\n"
     ]
    },
    {
     "name": "stderr",
     "output_type": "stream",
     "text": [
      "Evaluating: 100%|█████████████████████████████████████████████████████████████████████████████████████████████████| 157/157 [00:01<00:00, 87.50it/s]\n"
     ]
    },
    {
     "name": "stdout",
     "output_type": "stream",
     "text": [
      "ROC AUC: 0.9993\n",
      "Accuracy: 0.9723\n",
      "F1 Score: 0.9723\n",
      "Precision: 0.9722\n",
      "Recall: 0.9727\n",
      "Epoch 98/100\n"
     ]
    },
    {
     "name": "stderr",
     "output_type": "stream",
     "text": [
      "Training: 100%|█████████████████████████████████████████████████████████████████████████████████████████████████| 1407/1407 [00:16<00:00, 86.44it/s]\n"
     ]
    },
    {
     "name": "stdout",
     "output_type": "stream",
     "text": [
      "Epoch loss 98:  47.51529287240919\n",
      "Avg loss 98:  0.03342823470140244\n"
     ]
    },
    {
     "name": "stderr",
     "output_type": "stream",
     "text": [
      "Evaluating: 100%|█████████████████████████████████████████████████████████████████████████████████████████████████| 157/157 [00:01<00:00, 85.85it/s]\n"
     ]
    },
    {
     "name": "stdout",
     "output_type": "stream",
     "text": [
      "ROC AUC: 0.9990\n",
      "Accuracy: 0.9637\n",
      "F1 Score: 0.9633\n",
      "Precision: 0.9646\n",
      "Recall: 0.9627\n",
      "Epoch 99/100\n"
     ]
    },
    {
     "name": "stderr",
     "output_type": "stream",
     "text": [
      "Training: 100%|█████████████████████████████████████████████████████████████████████████████████████████████████| 1407/1407 [00:15<00:00, 88.36it/s]\n"
     ]
    },
    {
     "name": "stdout",
     "output_type": "stream",
     "text": [
      "Epoch loss 99:  45.978414592987974\n",
      "Avg loss 99:  0.03268626364641709\n"
     ]
    },
    {
     "name": "stderr",
     "output_type": "stream",
     "text": [
      "Evaluating: 100%|████████████████████████████████████████████████████████████████████████████████████████████████| 157/157 [00:01<00:00, 104.76it/s]\n"
     ]
    },
    {
     "name": "stdout",
     "output_type": "stream",
     "text": [
      "ROC AUC: 0.9992\n",
      "Accuracy: 0.9696\n",
      "F1 Score: 0.9697\n",
      "Precision: 0.9705\n",
      "Recall: 0.9696\n"
     ]
    },
    {
     "data": {
      "image/png": "[encoded data removed]",
      "text/plain": [
       "<Figure size 800x500 with 1 Axes>"
      ]
     },
     "metadata": {},
     "output_type": "display_data"
    },
    {
     "data": {
      "image/png": "[encoded data removed]",
      "text/plain": [
       "<Figure size 800x500 with 1 Axes>"
      ]
     },
     "metadata": {},
     "output_type": "display_data"
    }
   ],
   "source": [
    "import torch\n",
    "import random\n",
    "import numpy as np\n",
    "\n",
    "from tqdm import tqdm\n",
    "import torch\n",
    "import torch.nn as nn\n",
    "import torch.optim as optim\n",
    "import torchvision.transforms as transforms\n",
    "from torch.utils.data import DataLoader\n",
    "from medmnist import OrganMNIST3D\n",
    "from medmnist import PathMNIST\n",
    "\n",
    "import numpy as np\n",
    "import matplotlib.pyplot as plt\n",
    "\n",
    "from monai.networks.nets import resnet\n",
    "from monai.transforms import Compose, NormalizeIntensity, EnsureChannelFirst\n",
    "from sklearn.metrics import accuracy_score, f1_score, precision_score, recall_score, roc_auc_score\n",
    "\n",
    "def set_random_seed(seed=42):\n",
    "    random.seed(seed)\n",
    "    np.random.seed(seed)\n",
    "    torch.manual_seed(seed)\n",
    "    if torch.cuda.is_available():\n",
    "        torch.cuda.manual_seed(seed)\n",
    "        torch.cuda.manual_seed_all(seed)\n",
    "    torch.backends.cudnn.deterministic = True\n",
    "    torch.backends.cudnn.benchmark = False\n",
    "set_random_seed(42)\n",
    "\n",
    "device = torch.device(\"cuda\" if torch.cuda.is_available() else \"cpu\")\n",
    "\n",
    "\n",
    "\n",
    "def plot_loss(loss_history):\n",
    "    plt.figure(figsize=(8, 5))\n",
    "    plt.plot(range(1, len(loss_history) + 1), loss_history, marker='o', linestyle='-', color='blue')\n",
    "    plt.title(\"Training Loss over Epochs\")\n",
    "    plt.xlabel(\"Epoch\")\n",
    "    plt.ylabel(\"Average Loss\")\n",
    "    plt.grid(True)\n",
    "    plt.tight_layout()\n",
    "    plt.savefig(\"loss_plot.png\")  \n",
    "    plt.show()\n",
    "    \n",
    "def plot_accuracy(accuracy_history):\n",
    "    plt.figure(figsize=(8, 5))\n",
    "    plt.plot(range(1, len(accuracy_history) + 1), accuracy_history, marker='o', linestyle='-', color='blue')\n",
    "    plt.title(\"Accuracy history over Epochs\")\n",
    "    plt.xlabel(\"Epoch\")\n",
    "    plt.ylabel(\"Accuracy\")\n",
    "    plt.grid(True)\n",
    "    plt.tight_layout()\n",
    "    plt.savefig(\"accuracy_plot.png\")  \n",
    "    plt.show()\n",
    "\n",
    "\n",
    "\n",
    "def train(model,dataset, val_loader,num_epochs,batch_size,lr):\n",
    "    print(\"Training started\")\n",
    "    dataloader = DataLoader(dataset, batch_size=batch_size, shuffle=True)\n",
    "\n",
    "    criterion = nn.CrossEntropyLoss()\n",
    "    optimizer = optim.Adam(model.parameters(), lr=lr)\n",
    "    scheduler = optim.lr_scheduler.ReduceLROnPlateau(optimizer, mode='min', patience=3, factor=0.5, verbose=True)\n",
    "\n",
    "    loss_history = []\n",
    "    accuracy_history = []\n",
    "    best_accuracy = -np.inf\n",
    "    for epoch in range(num_epochs):\n",
    "        print(f\"Epoch {epoch}/{num_epochs}\")\n",
    "        model.train()\n",
    "        epoch_loss = 0.0\n",
    "        total_samples = 0\n",
    "        total_loss = 0.0\n",
    "\n",
    "        for images, labels in tqdm(dataloader, desc=\"Training\"):\n",
    "            images = images.to(device, dtype=torch.float32)\n",
    "            labels = labels.squeeze().long().to(device)\n",
    "\n",
    "            optimizer.zero_grad()\n",
    "            outputs = model(images)\n",
    "            loss = criterion(outputs, labels)\n",
    "\n",
    "            loss.backward()\n",
    "            optimizer.step()\n",
    "\n",
    "            epoch_loss += loss.item()\n",
    "            batch_size = labels.size(0)\n",
    "            total_loss += loss.item() * batch_size\n",
    "            total_samples += batch_size\n",
    "\n",
    "        avg_loss = total_loss / total_samples\n",
    "\n",
    "        print(f\"Epoch loss {epoch}: \", epoch_loss)\n",
    "        print(f\"Avg loss {epoch}: \", avg_loss)\n",
    "        loss_history.append(epoch_loss)\n",
    "        scheduler.step(avg_loss)\n",
    "\n",
    "        accuracy = evaluate_model(model,val_loader,device)\n",
    "        accuracy_history.append(accuracy)\n",
    "        if (accuracy>best_accuracy):\n",
    "            best_accuracy = accuracy\n",
    "            torch.save(model.state_dict(), \"organ3d_model.pth\")\n",
    "            print(\"Model saved\")\n",
    "    plot_loss(loss_history)\n",
    "    plot_accuracy(accuracy_history)\n",
    "\n",
    "def evaluate_model(model, val_loader, device):\n",
    "    model.eval()\n",
    "    all_labels = []\n",
    "    all_preds = []\n",
    "    all_probs = []\n",
    "\n",
    "\n",
    "    with torch.no_grad():\n",
    "        for images, labels in tqdm(val_loader, desc=\"Evaluating\"):\n",
    "            images = images.to(device)\n",
    "            labels = labels.to(device).view(-1).long()\n",
    "            outputs = model(images)\n",
    "\n",
    "            probs = torch.softmax(outputs, dim=1).cpu().numpy()\n",
    "            preds = torch.argmax(outputs, dim=1).cpu().numpy()\n",
    "\n",
    "            all_probs.append(probs)\n",
    "            all_preds.append(preds)\n",
    "            all_labels.append(labels.cpu().numpy())\n",
    "\n",
    "    all_preds = np.concatenate(all_preds)\n",
    "    all_labels = np.concatenate(all_labels)\n",
    "    all_probs = np.concatenate(all_probs)\n",
    "\n",
    "    accuracy = accuracy_score(all_labels, all_preds)\n",
    "    f1 = f1_score(all_labels, all_preds, average='macro')\n",
    "    precision = precision_score(all_labels, all_preds, average='macro')\n",
    "    recall = recall_score(all_labels, all_preds, average='macro')\n",
    "    auc = roc_auc_score(all_labels, all_probs, multi_class='ovr')\n",
    "    print(f\"ROC AUC: {auc:.4f}\")\n",
    "\n",
    "    print(f\"Accuracy: {accuracy:.4f}\")\n",
    "    print(f\"F1 Score: {f1:.4f}\")\n",
    "    print(f\"Precision: {precision:.4f}\")\n",
    "    print(f\"Recall: {recall:.4f}\")\n",
    "    return accuracy\n",
    "\n",
    "if __name__ == \"__main__\":\n",
    "    \n",
    "    num_epochs = config[\"NUM_EPOCHS\"]\n",
    "    batch_size = config[\"BATCH_SIZE\"]\n",
    "    lr = config[\"LR\"]\n",
    "    in_channels = config[\"IN_CHANNELS\"]\n",
    "    model_name = config[\"MODEL\"]\n",
    "    dataset_name = config[\"DATASET\"]\n",
    "    num_classes = config[\"CLASSES\"]\n",
    "\n",
    "    device = torch.device(\"cuda\" if torch.cuda.is_available() else \"cpu\")\n",
    "\n",
    "    if (model_name==\"3D\"):\n",
    "        transform = Compose([\n",
    "            EnsureChannelFirst(channel_dim=0),  \n",
    "            NormalizeIntensity(nonzero=True, channel_wise=True)\n",
    "        ])\n",
    "        model = resnet.resnet18(\n",
    "            spatial_dims=3,\n",
    "            n_input_channels=in_channels,\n",
    "            num_classes=num_classes\n",
    "        )\n",
    "\n",
    "    elif (model_name==\"2D\"):\n",
    "        transform = transforms.Compose([\n",
    "            transforms.RandomHorizontalFlip(),\n",
    "            transforms.RandomRotation(5),\n",
    "            transforms.RandomAffine(0, translate=(0.05, 0.05)),\n",
    "            transforms.ToTensor(),\n",
    "            transforms.Normalize([0.5]*in_channels, [0.5]*in_channels)\n",
    "        ])\n",
    "        model = my_network(num_classes=num_classes)\n",
    "\n",
    "    model = model.to(device)\n",
    "\n",
    "    if (dataset_name==\"PathMNIST\"):\n",
    "        dataset = PathMNIST(split=\"train\", download=True, transform=transform)\n",
    "        val_dataset = PathMNIST(split=\"val\", download=True, transform=transform)\n",
    "\n",
    "    elif (dataset_name==\"OrganMNIST3D\"):\n",
    "        dataset = OrganMNIST3D(split=\"train\", download=True, transform=transform)\n",
    "        val_dataset = OrganMNIST3D(split=\"val\", download=True, transform=transform)\n",
    "    val_loader = DataLoader(val_dataset, batch_size=batch_size, shuffle=False)\n",
    "\n",
    "    train(model,dataset,val_loader,num_epochs,batch_size,lr)"
   ]
  },
  {
   "cell_type": "code",
   "execution_count": 11,
   "metadata": {},
   "outputs": [
    {
     "name": "stderr",
     "output_type": "stream",
     "text": [
      "/tmp/ipykernel_3396654/3349710367.py:16: FutureWarning: You are using `torch.load` with `weights_only=False` (the current default value), which uses the default pickle module implicitly. It is possible to construct malicious pickle data which will execute arbitrary code during unpickling (See https://github.com/pytorch/pytorch/blob/main/SECURITY.md#untrusted-models for more details). In a future release, the default value for `weights_only` will be flipped to `True`. This limits the functions that could be executed during unpickling. Arbitrary objects will no longer be allowed to be loaded via this mode unless they are explicitly allowlisted by the user via `torch.serialization.add_safe_globals`. We recommend you start setting `weights_only=True` for any use case where you don't have full control of the loaded file. Please open an issue on GitHub for any issues related to this experimental feature.\n",
      "  model.load_state_dict(torch.load(model_path, map_location=device))\n"
     ]
    },
    {
     "name": "stdout",
     "output_type": "stream",
     "text": [
      "Using downloaded and verified file: /home/lidalbak/.medmnist/pathmnist.npz\n"
     ]
    },
    {
     "name": "stderr",
     "output_type": "stream",
     "text": [
      "Evaluating: 100%|████████████████████████████████████████████████████████████████████████████████████████████████| 113/113 [00:00<00:00, 149.32it/s]\n"
     ]
    },
    {
     "name": "stdout",
     "output_type": "stream",
     "text": [
      "ROC AUC: 0.9737\n",
      "Accuracy: 0.8898\n",
      "F1 Score: 0.8451\n",
      "Precision: 0.8597\n",
      "Recall: 0.8525\n"
     ]
    },
    {
     "data": {
      "image/png": "[encoded data removed]",
      "text/plain": [
       "<Figure size 1000x800 with 2 Axes>"
      ]
     },
     "metadata": {},
     "output_type": "display_data"
    },
    {
     "name": "stdout",
     "output_type": "stream",
     "text": [
      "Classification Report\n",
      "              precision    recall  f1-score   support\n",
      "\n",
      "           0     0.9767    0.9723    0.9745      1338\n",
      "           1     0.9098    1.0000    0.9528       847\n",
      "           2     0.5129    0.9410    0.6639       339\n",
      "           3     0.9856    0.8628    0.9201       634\n",
      "           4     0.9907    0.9285    0.9586      1035\n",
      "           5     0.8337    0.6351    0.7210       592\n",
      "           6     0.9699    0.8259    0.8921       741\n",
      "           7     0.6707    0.5321    0.5934       421\n",
      "           8     0.8877    0.9749    0.9293      1233\n",
      "\n",
      "    accuracy                         0.8898      7180\n",
      "   macro avg     0.8597    0.8525    0.8451      7180\n",
      "weighted avg     0.9040    0.8898    0.8907      7180\n",
      "\n"
     ]
    }
   ],
   "source": [
    "import torch\n",
    "import torchvision.transforms as transforms\n",
    "from torch.utils.data import DataLoader\n",
    "from medmnist import PathMNIST\n",
    "import numpy as np\n",
    "from sklearn.metrics import accuracy_score, f1_score, precision_score, recall_score,roc_auc_score\n",
    "from tqdm import tqdm\n",
    "import matplotlib.pyplot as plt\n",
    "import seaborn as sns\n",
    "from sklearn.metrics import confusion_matrix, classification_report\n",
    "from medmnist import OrganMNIST3D\n",
    "from medmnist import PathMNIST\n",
    "\n",
    "\n",
    "def load_model(model_path,model,device):\n",
    "    model.load_state_dict(torch.load(model_path, map_location=device))\n",
    "    model.eval()\n",
    "    return model\n",
    "\n",
    "\n",
    "def evaluate_model(model, val_loader, device):\n",
    "    model.eval()\n",
    "    all_labels = []\n",
    "    all_preds = []\n",
    "    all_probs = []\n",
    "\n",
    "\n",
    "    with torch.no_grad():\n",
    "        for images, labels in tqdm(val_loader, desc=\"Evaluating\"):\n",
    "            images = images.to(device)\n",
    "            labels = labels.to(device).view(-1).long()\n",
    "            outputs = model(images)\n",
    "\n",
    "            probs = torch.softmax(outputs, dim=1).cpu().numpy()\n",
    "            preds = torch.argmax(outputs, dim=1).cpu().numpy()\n",
    "\n",
    "            all_probs.append(probs)\n",
    "            all_preds.append(preds)\n",
    "            all_labels.append(labels.cpu().numpy())\n",
    "\n",
    "    all_preds = np.concatenate(all_preds)\n",
    "    all_labels = np.concatenate(all_labels)\n",
    "    all_probs = np.concatenate(all_probs)\n",
    "\n",
    "    accuracy = accuracy_score(all_labels, all_preds)\n",
    "    f1 = f1_score(all_labels, all_preds, average='macro')\n",
    "    precision = precision_score(all_labels, all_preds, average='macro')\n",
    "    recall = recall_score(all_labels, all_preds, average='macro')\n",
    "    auc = roc_auc_score(all_labels, all_probs, multi_class='ovr')\n",
    "    print(f\"ROC AUC: {auc:.4f}\")\n",
    "\n",
    "    print(f\"Accuracy: {accuracy:.4f}\")\n",
    "    print(f\"F1 Score: {f1:.4f}\")\n",
    "    print(f\"Precision: {precision:.4f}\")\n",
    "    print(f\"Recall: {recall:.4f}\")\n",
    "\n",
    "    cm = confusion_matrix(all_labels, all_preds)\n",
    "    plt.figure(figsize=(10, 8))\n",
    "    sns.heatmap(cm, annot=True, fmt='d', cmap='Blues', xticklabels=range(9), yticklabels=range(9))\n",
    "    plt.xlabel('Predicted')\n",
    "    plt.ylabel('True')\n",
    "    plt.title('Confusion Matrix')\n",
    "    plt.savefig('confusion_matrix.png')\n",
    "    plt.show()\n",
    "\n",
    "    print(\"Classification Report\")\n",
    "    print(classification_report(all_labels, all_preds, digits=4))\n",
    "\n",
    "if __name__ == \"__main__\":\n",
    "\n",
    "    num_epochs = config[\"NUM_EPOCHS\"]\n",
    "    batch_size = config[\"BATCH_SIZE\"]\n",
    "    lr = config[\"LR\"]\n",
    "    in_channels = config[\"IN_CHANNELS\"]\n",
    "    model_name = config[\"MODEL\"]\n",
    "    dataset_name = config[\"DATASET\"]\n",
    "    num_classes = config[\"CLASSES\"]\n",
    "\n",
    "    device = torch.device(\"cuda\" if torch.cuda.is_available() else \"cpu\")\n",
    "\n",
    "    if (model_name==\"3D\"):\n",
    "        transform = Compose([\n",
    "            EnsureChannelFirst(channel_dim=0),  \n",
    "            NormalizeIntensity(nonzero=True, channel_wise=True)\n",
    "        ])\n",
    "        model = resnet.resnet18(\n",
    "            spatial_dims=3,\n",
    "            n_input_channels=in_channels,\n",
    "            num_classes=num_classes\n",
    "        )\n",
    "\n",
    "\n",
    "    elif (model_name==\"2D\"):\n",
    "        transform = transforms.Compose([\n",
    "            transforms.ToTensor(),\n",
    "            transforms.Normalize([0.5]*in_channels, [0.5]*in_channels)\n",
    "        ])\n",
    "        model = my_network(num_classes=num_classes)\n",
    "\n",
    "    model = model.to(device)\n",
    "\n",
    "    if (dataset_name==\"PathMNIST\"):\n",
    "        test_dataset = PathMNIST(split=\"test\", download=True, transform=transform)\n",
    "\n",
    "    elif (dataset_name==\"OrganMNIST3D\"):\n",
    "        test_dataset = OrganMNIST3D(split=\"test\", download=True, transform=transform)\n",
    "\n",
    "    test_loader = DataLoader(test_dataset, batch_size=batch_size, shuffle=False)\n",
    "\n",
    "    model = load_model(\"organ3d_model.pth\", model, device)\n",
    "    evaluate_model(model, test_loader, device)\n"
   ]
  },
  {
   "cell_type": "code",
   "execution_count": null,
   "metadata": {},
   "outputs": [],
   "source": []
  }
 ],
 "metadata": {
  "kernelspec": {
   "display_name": "Python 3 (ipykernel)",
   "language": "python",
   "name": "python3"
  },
  "language_info": {
   "codemirror_mode": {
    "name": "ipython",
    "version": 3
   },
   "file_extension": ".py",
   "mimetype": "text/x-python",
   "name": "python",
   "nbconvert_exporter": "python",
   "pygments_lexer": "ipython3",
   "version": "3.10.12"
  }
 },
 "nbformat": 4,
 "nbformat_minor": 4
}
